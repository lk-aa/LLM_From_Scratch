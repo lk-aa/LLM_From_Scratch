{
 "cells": [
  {
   "cell_type": "markdown",
   "id": "f565bbe9-511f-4652-a2e6-b7a7610d0769",
   "metadata": {},
   "source": [
    "# LLaMA原理精讲与架构复现"
   ]
  },
  {
   "cell_type": "markdown",
   "id": "3f4683e0-aa5a-4cd9-83fb-47483e55115a",
   "metadata": {},
   "source": [
    "- llama3架构一览"
   ]
  },
  {
   "cell_type": "markdown",
   "id": "548a875d-bac2-48d8-8e5f-bf2e995bd4c3",
   "metadata": {},
   "source": [
    "<center><img src=\"https://skojiangdoc.oss-cn-beijing.aliyuncs.com/2024LLM/06.png\" alt=\"描述文字\" width=\"600\">"
   ]
  },
  {
   "cell_type": "code",
   "execution_count": 58,
   "id": "92fc313a-5565-4bfc-856f-69ab9c9ee5e8",
   "metadata": {},
   "outputs": [],
   "source": [
    "import math\n",
    "import struct\n",
    "import inspect\n",
    "import time\n",
    "\n",
    "import LMConfig\n",
    "from typing import Any, Optional, Tuple\n",
    "import numpy as np\n",
    "import torch\n",
    "import torch.nn.functional as F\n",
    "from torch import nn\n",
    "from transformers import PreTrainedModel\n",
    "from transformers.modeling_outputs import CausalLMOutputWithPast"
   ]
  },
  {
   "cell_type": "markdown",
   "id": "5433b869-7561-4c51-bd92-2ee54f6c012b",
   "metadata": {},
   "source": [
    "## 1. Embedding层"
   ]
  },
  {
   "cell_type": "markdown",
   "id": "1e0d180f-0582-4fa1-a89a-caca2f013277",
   "metadata": {},
   "source": [
    "在PyTorch中，`nn.Embedding`层是用于处理离散数据（如单词或类别）的关键组件，特别常见于自然语言处理（NLP）和推荐系统等任务。它的主要功能是将输入的整数索引映射到连续的高维向量空间中，即将**索引**转化为**嵌入向量**。"
   ]
  },
  {
   "cell_type": "markdown",
   "id": "74521489-a437-49bb-90b8-c9cce304072f",
   "metadata": {},
   "source": [
    "```python\n",
    "torch.nn.Embedding(num_embeddings, embedding_dim)\n",
    "```"
   ]
  },
  {
   "cell_type": "markdown",
   "id": "a8086d52-1356-4c08-bd7a-690645291881",
   "metadata": {},
   "source": [
    "- **`num_embeddings`**: 嵌入表的大小，即词汇表的大小或类别数。它定义了有多少个不同的“离散输入”可以映射到嵌入向量。\n",
    "- **`embedding_dim`**: 每个离散输入（类别、单词等）将被映射到的连续向量的维度大小。\n",
    "\n",
    "`nn.Embedding`的输入通常是整数（类别索引或词汇索引），它会根据输入的索引从一个大小为 `(num_embeddings, embedding_dim)` 的查找表中检索出相应的嵌入向量。"
   ]
  },
  {
   "cell_type": "code",
   "execution_count": 12,
   "id": "c3729b0d-1853-44a4-a7d9-71bc66a4d9df",
   "metadata": {},
   "outputs": [
    {
     "name": "stdout",
     "output_type": "stream",
     "text": [
      "tensor([[ 1.5522,  0.7179,  1.6805],\n",
      "        [ 2.1118,  0.2995,  0.4167],\n",
      "        [-0.6033, -0.4972, -1.6700]], grad_fn=<EmbeddingBackward0>)\n"
     ]
    }
   ],
   "source": [
    "import torch\n",
    "import torch.nn as nn\n",
    "\n",
    "# 定义Embedding层\n",
    "embedding = nn.Embedding(10, 3)  # num_embeddings=10, embedding_dim=3\n",
    "\n",
    "# 输入索引\n",
    "input_indices = torch.tensor([1, 2, 3])\n",
    "\n",
    "# 获取嵌入向量\n",
    "output = embedding(input_indices)\n",
    "\n",
    "print(output)"
   ]
  },
  {
   "cell_type": "markdown",
   "id": "ed819352-91f7-4cbf-bffc-1600dac7bc24",
   "metadata": {},
   "source": [
    "- embedding层携带巨大的权重矩阵，是参数量计算的关键过程之一"
   ]
  },
  {
   "cell_type": "code",
   "execution_count": 14,
   "id": "2e5bbd22-8688-47a9-a10b-ace33b7f7fea",
   "metadata": {},
   "outputs": [
    {
     "name": "stdout",
     "output_type": "stream",
     "text": [
      "Parameter containing:\n",
      "tensor([[ 0.4752, -0.2457,  0.2101],\n",
      "        [ 1.5522,  0.7179,  1.6805],\n",
      "        [ 2.1118,  0.2995,  0.4167],\n",
      "        [-0.6033, -0.4972, -1.6700],\n",
      "        [-0.8719, -0.7207,  0.8305],\n",
      "        [ 1.2962, -1.2880,  0.8838],\n",
      "        [-0.7804, -0.1872,  0.3502],\n",
      "        [-0.2817, -0.9322,  0.5499],\n",
      "        [-0.5277,  0.8808, -1.6055],\n",
      "        [ 0.5706,  0.9455, -0.0734]], requires_grad=True)\n"
     ]
    }
   ],
   "source": [
    "print(embedding.weight) #结构为10,3"
   ]
  },
  {
   "cell_type": "markdown",
   "id": "a141f378-4d72-4619-85c5-5c618d97ffbe",
   "metadata": {},
   "source": [
    "## 2. RMSNorm 均方根层归一化"
   ]
  },
  {
   "cell_type": "markdown",
   "id": "01961679-0892-4cb9-9129-ef4fd84b9fe3",
   "metadata": {},
   "source": [
    "在Transformer结构中，Layer Normalization（层归一化）是一个至关重要的部分，它是一种特定的归一化技术，与Batch Normalization（批归一化）不同，Layer Normalization不是对一个批次（batch）中的样本进行归一化，而是独立地对每个样本中的所有特征进行归一化（也就是对单一词向量、单一时间点的所有embedding维度进行归一化）。具体来说，对于每个样本，Layer Normalization会在特定层的所有激活上计算均值和方差，然后用这些统计量来归一化该样本的激活值。"
   ]
  },
  {
   "cell_type": "markdown",
   "id": "91db92da-d07b-4bc6-a2b6-6557589a8e13",
   "metadata": {},
   "source": [
    "- **LN与BN的差别**\n",
    "\n",
    "BN 和 LN 的差别就在$u_i$和 $\\sigma_i$这里，前者在某一个 Batch 内统计某特定神经元节点的输出分布（跨样本），后者在某一次迭代更新中统计同一层内的所有神经元节点的输出分布（同一样本下）。\n",
    "![Alt text](https://skojiangdoc.oss-cn-beijing.aliyuncs.com/2023DL/transformer/image-29.png)\n",
    "\n",
    "![](https://skojiangdoc.oss-cn-beijing.aliyuncs.com/2024LLM/19.png)\n",
    "\n",
    "> * NLP任务中经常会处理长度不同的句子，使用LN时可以不考虑其它样本的长度。<br><br>\n",
    "> * 在某些情况下，当可用的内存有限或者为了加速训练而使用更小的batch时，BN因为batch数量不足而受到了限制。<br><br>\n",
    "> * 在某些NLP任务和解码设置中，模型可能会一个接一个地处理序列中的元素，而不是一次处理整个batch。这样BN就不是很适用了。<br><br>\n",
    "> * 在Transformer模型中有很深的层次和自注意机制。通过对每一层的输入进行规范化，可以防止值的爆炸或消失，从而帮助模型更快地收敛。"
   ]
  },
  {
   "cell_type": "markdown",
   "id": "12ad51cf-fa69-48f3-9e95-ee6d0d5d5c45",
   "metadata": {},
   "source": [
    "![](https://skojiangdoc.oss-cn-beijing.aliyuncs.com/2024LLM/08.webp)"
   ]
  },
  {
   "cell_type": "markdown",
   "id": "a5428aac-c3d3-4edf-9564-7f87037b8302",
   "metadata": {},
   "source": [
    "- **LN与RMSNorm的差别**"
   ]
  },
  {
   "cell_type": "markdown",
   "id": "7fa340c4-2a62-4a07-99a8-91bd170b9e23",
   "metadata": {},
   "source": [
    "**RMSNorm** 和 **普通 LayerNorm** 的主要区别在于归一化的计算方式：\n",
    "\n",
    "1. **归一化公式**：  \n",
    "   - **LayerNorm** 会对输入特征的均值和方差进行计算，然后用这些统计量对每个特征进行归一化。\n",
    "   - **RMSNorm** 只计算输入特征的均方根 (RMS, Root Mean Square)，而不考虑均值。因此，RMSNorm 去掉了均值的计算，直接利用每个特征的均方根进行归一化。\n",
    "<br><br>\n",
    "2. **计算简化**：  \n",
    "   - **LayerNorm** 需要同时计算均值和方差，涉及更多的计算步骤。\n",
    "   - **RMSNorm** 只需要计算输入的均方根，计算量更小。\n",
    "\n",
    "- **更少的计算开销**：由于去除了对均值的计算，RMSNorm 的计算开销相比 LayerNorm 更小，尤其在大规模模型中表现更为高效。\n",
    "- **训练稳定性**：RMSNorm 保留了归一化的效果，能够稳定训练过程，同时在某些场景下表现出更好的收敛性。\n",
    "- **适合大模型**：RMSNorm 因其简化的计算过程，特别适合像 LLaMA 这样的大模型，可以提高训练和推理的效率。\n",
    "- **统计概念不同**：均方根 (RMS) 是数据点平方的均值再开平方，表达的是数据的“绝对大小”，忽略了数据的符号，反映的是整体数据的幅度或能量，均值和方差则更多代表波动，更关注数据的分布，包括数据的中心位置和离散程度。"
   ]
  },
  {
   "cell_type": "code",
   "execution_count": null,
   "id": "fdfbe442-8ffa-4952-a2ac-ac411f5f1cd9",
   "metadata": {},
   "outputs": [],
   "source": [
    "class RMSNorm(torch.nn.Module):\n",
    "    # 初始化函数，接受参数：\n",
    "    # dim: 归一化的维度大小\n",
    "    # eps: 防止除零的非常小的数值\n",
    "    def __init__(self, dim: int, eps: float):\n",
    "        super().__init__()  # 调用父类的初始化方法\n",
    "        self.eps = eps  # 将 eps 存储为类的属性\n",
    "        # 初始化可学习的参数 weight，初始值为全1，形状为(dim,)\n",
    "        # 这是每个维度的缩放系数\n",
    "        self.weight = nn.Parameter(torch.ones(dim))  \n",
    "\n",
    "    # 定义一个内部方法 _norm，用于对输入 x 进行归一化操作\n",
    "    def _norm(self, x):\n",
    "        # 使用平方的均值作为输入的标准差，并加上 eps 以防止除零\n",
    "        # torch.rsqrt 是计算平方根的倒数，即 1 / sqrt(x)\n",
    "        return x * torch.rsqrt(x.pow(2).mean(-1, keepdim=True) + self.eps)\n",
    "\n",
    "    # 定义前向传播的操作\n",
    "    def forward(self, x):\n",
    "        # 首先调用 _norm 方法对输入 x 进行归一化，并确保类型一致性\n",
    "        # x.float() 将输入转换为浮点数进行精度较高的计算\n",
    "        output = self._norm(x.float()).type_as(x)  \n",
    "        # 将归一化后的输出乘以可学习的参数 weight，调整每个维度的缩放\n",
    "        return output * self.weight"
   ]
  },
  {
   "cell_type": "markdown",
   "id": "f4a9621e-6427-471a-ab1e-d07baf701198",
   "metadata": {},
   "source": [
    "- 如何理解-1维度？"
   ]
  },
  {
   "cell_type": "code",
   "execution_count": 4,
   "id": "66ca839c-dc38-49cf-b4be-dbe9609a6b12",
   "metadata": {},
   "outputs": [
    {
     "name": "stdout",
     "output_type": "stream",
     "text": [
      "tensor([[[0.3789, 0.4490, 0.6182, 0.1384, 0.5848],\n",
      "         [0.7976, 0.8643, 0.7966, 0.5964, 0.8800],\n",
      "         [0.8810, 0.2698, 0.3346, 0.7024, 0.7164],\n",
      "         [0.9868, 0.3738, 0.9188, 0.5578, 0.1266]],\n",
      "\n",
      "        [[0.4285, 0.5041, 0.3655, 0.3673, 0.2554],\n",
      "         [0.7663, 0.9435, 0.7177, 0.1168, 0.0876],\n",
      "         [0.6517, 0.9947, 0.0471, 0.0100, 0.0264],\n",
      "         [0.6155, 0.2442, 0.3132, 0.5508, 0.4759]],\n",
      "\n",
      "        [[0.6578, 0.8285, 0.8856, 0.9596, 0.7464],\n",
      "         [0.9596, 0.8770, 0.2025, 0.1470, 0.7849],\n",
      "         [0.9045, 0.6325, 0.3705, 0.9188, 0.6412],\n",
      "         [0.3341, 0.2872, 0.3253, 0.0787, 0.4443]]])\n"
     ]
    }
   ],
   "source": [
    "import torch\n",
    "\n",
    "# 创建形状为(3, 4, 5)的Tensor\n",
    "exp = torch.rand(3, 4, 5)\n",
    "\n",
    "print(exp)"
   ]
  },
  {
   "cell_type": "code",
   "execution_count": 6,
   "id": "28c057c5-e47e-4d6a-97e7-8f62b801e199",
   "metadata": {},
   "outputs": [
    {
     "data": {
      "text/plain": [
       "tensor([[[1.4353e-01, 2.0159e-01, 3.8222e-01, 1.9165e-02, 3.4198e-01],\n",
       "         [6.3617e-01, 7.4708e-01, 6.3457e-01, 3.5566e-01, 7.7436e-01],\n",
       "         [7.7610e-01, 7.2778e-02, 1.1193e-01, 4.9332e-01, 5.1321e-01],\n",
       "         [9.7382e-01, 1.3970e-01, 8.4418e-01, 3.1110e-01, 1.6026e-02]],\n",
       "\n",
       "        [[1.8362e-01, 2.5410e-01, 1.3358e-01, 1.3489e-01, 6.5224e-02],\n",
       "         [5.8726e-01, 8.9019e-01, 5.1510e-01, 1.3637e-02, 7.6694e-03],\n",
       "         [4.2477e-01, 9.8942e-01, 2.2207e-03, 9.9925e-05, 6.9445e-04],\n",
       "         [3.7878e-01, 5.9637e-02, 9.8112e-02, 3.0340e-01, 2.2645e-01]],\n",
       "\n",
       "        [[4.3276e-01, 6.8649e-01, 7.8420e-01, 9.2082e-01, 5.5707e-01],\n",
       "         [9.2077e-01, 7.6917e-01, 4.1018e-02, 2.1602e-02, 6.1610e-01],\n",
       "         [8.1816e-01, 4.0001e-01, 1.3730e-01, 8.4413e-01, 4.1109e-01],\n",
       "         [1.1164e-01, 8.2483e-02, 1.0579e-01, 6.1930e-03, 1.9739e-01]]])"
      ]
     },
     "execution_count": 6,
     "metadata": {},
     "output_type": "execute_result"
    }
   ],
   "source": [
    "exp.pow(2) #平方"
   ]
  },
  {
   "cell_type": "code",
   "execution_count": 9,
   "id": "071e93b7-bfef-4337-bda5-905e072e9480",
   "metadata": {},
   "outputs": [
    {
     "data": {
      "text/plain": [
       "tensor([[[0.2177],\n",
       "         [0.6296],\n",
       "         [0.3935],\n",
       "         [0.4570]],\n",
       "\n",
       "        [[0.1543],\n",
       "         [0.4028],\n",
       "         [0.2834],\n",
       "         [0.2133]],\n",
       "\n",
       "        [[0.6763],\n",
       "         [0.4737],\n",
       "         [0.5221],\n",
       "         [0.1007]]])"
      ]
     },
     "execution_count": 9,
     "metadata": {},
     "output_type": "execute_result"
    }
   ],
   "source": [
    "exp.pow(2).mean(-1, keepdim=True)\n",
    "#在最后一个维度，也就是d_model的维度求解均值\n",
    "#对文字数据来说等同于对每一个token上所有的列求解均值"
   ]
  },
  {
   "cell_type": "code",
   "execution_count": 10,
   "id": "134f81d2-bac3-4a4f-a73e-c5f17088edc9",
   "metadata": {},
   "outputs": [
    {
     "data": {
      "text/plain": [
       "torch.Size([3, 4, 1])"
      ]
     },
     "execution_count": 10,
     "metadata": {},
     "output_type": "execute_result"
    }
   ],
   "source": [
    "exp.pow(2).mean(-1, keepdim=True).shape"
   ]
  },
  {
   "cell_type": "code",
   "execution_count": 11,
   "id": "6664e890-ffbe-45d1-a080-143982931775",
   "metadata": {},
   "outputs": [
    {
     "data": {
      "text/plain": [
       "tensor([[[2.1433],\n",
       "         [1.2603],\n",
       "         [1.5942],\n",
       "         [1.4793]],\n",
       "\n",
       "        [[2.5459],\n",
       "         [1.5757],\n",
       "         [1.8783],\n",
       "         [2.1654]],\n",
       "\n",
       "        [[1.2160],\n",
       "         [1.4529],\n",
       "         [1.3839],\n",
       "         [3.1513]]])"
      ]
     },
     "execution_count": 11,
     "metadata": {},
     "output_type": "execute_result"
    }
   ],
   "source": [
    "torch.rsqrt(exp.pow(2).mean(-1, keepdim=True))"
   ]
  },
  {
   "cell_type": "markdown",
   "id": "48bac7ea-8725-4d1e-bff8-5e747f8fcd27",
   "metadata": {},
   "source": [
    "## 3. 旋转位置编码Rotary Positional Embedding"
   ]
  },
  {
   "cell_type": "markdown",
   "id": "8722d8a1-6160-44ec-b65d-c427567bf882",
   "metadata": {},
   "source": [
    "在 **LLaMA (Large Language Model Meta AI)** 中，使用了一种称为 **旋转位置编码** (RoPE, Rotary Position Embedding) 的技术来引入位置信息。这种编码方式不同于传统的固定位置编码或可学习的位置编码，通过使用**旋转矩阵**将位置信息嵌入到序列中。\n",
    "\n",
    "- 旋转位置编码 (RoPE) 的原理：\n",
    "RoPE 的核心思想是将**位置编码**嵌入到每个输入的特征维度中，而不是像传统的绝对位置编码那样为每个位置生成单独的向量。具体而言，RoPE将输入特征通过一个与位置相关的**旋转变换**，在不同位置上通过旋转不同角度来表达位置信息。\n",
    "\n",
    "1. **嵌入位置信息**：  \n",
    "   通过使用旋转矩阵，RoPE能够在同一特征空间中嵌入位置信息，并且这种旋转变换可以是连续的，使得模型可以处理不同长度的序列输入，而不依赖于绝对位置编码的长度限制。\n",
    "\n",
    "2. **特征维度的分组旋转**：  \n",
    "   RoPE 会将输入特征维度两两分组，并将每对特征维度进行角度旋转，旋转角度根据序列中的相对位置来调整。随着序列位置的变化，每个特征都会以不同的旋转角度进行变化，从而实现位置的编码。\n",
    "\n",
    "3. **优点**：\n",
    "   - **相对位置感知**：RoPE 自然具备相对位置感知能力（因为它具有一定的循环性），因此模型可以更好地处理较长序列中的相对位置信息。\n",
    "   - **长度灵活性**：相比于绝对位置编码，RoPE 可以更加灵活地处理不同长度的序列，而不会受到编码长度的限制。\n",
    "   - **平滑的位置信息传递**：通过旋转变换的方式嵌入位置信息，使得位置信息在整个特征空间中平滑地传递，避免了绝对位置编码的离散性。"
   ]
  },
  {
   "cell_type": "markdown",
   "id": "599125a4-3711-4d44-afd5-b52f641396a0",
   "metadata": {},
   "source": [
    "- **旋转位置编码的具体流程**"
   ]
  },
  {
   "cell_type": "markdown",
   "id": "18dcec8b-c22b-4e97-a603-c7bbc117afe5",
   "metadata": {},
   "source": [
    "**Rotary Positional Embedding**（旋转位置编码）的流程可以如下解释——\n",
    "1. **x1 和 x2 是 token 的原始编码值**。\n",
    "2. **θ1（theta1）** 是一个常数，为每两维度的编码设置。我们将[$\\theta_1, \\theta_2...\\theta_{d/2}$]这个序列总称为“频率”。\n",
    "3. **m 是 position（位置）**，表示当前 token 在序列中的位置。\n",
    "4. 通过**m * θ** 计算角度，并将 **x1 和 x2** 按照这个角度进行旋转，得到新的编码 **x'1 和 x'2**。\n",
    "\n",
    "这个过程的核心是通过旋转操作引入位置相关的信息，这种方法可以使得模型对相对位置更加敏感，同时保持旋转不变性。"
   ]
  },
  {
   "cell_type": "markdown",
   "id": "1521307c-45ff-4561-a62e-1b896a3561e5",
   "metadata": {},
   "source": [
    "![](https://skojiangdoc.oss-cn-beijing.aliyuncs.com/2024LLM/07.webp)"
   ]
  },
  {
   "cell_type": "markdown",
   "id": "fc83909c-8745-4096-b030-9b9d398e839a",
   "metadata": {},
   "source": [
    "- **极坐标表示**\n",
    "\n",
    "**极坐标表示**是表示二维平面上点的一种方式，与我们常用的**直角坐标系**不同。在极坐标系中，一个点的位置由**模长**（半径）和**角度**来确定。\n",
    "- **直角坐标系**：一个点的位置用两个值 `(x, y)` 来表示，`x` 是水平轴（x轴）的距离，`y` 是垂直轴（y轴）的距离。\n",
    "- **极坐标系**：一个点的位置用两个值 `(r, θ)` 来表示，其中：\n",
    "  - **`r`** 是从原点到这个点的距离（模长或半径），它表示点到原点的距离。\n",
    "  - **`θ`** 是这个点与极轴（通常是正x轴）之间的夹角，称为**角度**或**方位角**。"
   ]
  },
  {
   "cell_type": "markdown",
   "id": "d37fc4aa-2ac7-47c1-827a-5d3401862c73",
   "metadata": {},
   "source": [
    "- <font color=\"red\">**相对位置表示**</font>\n",
    "\n",
    "通过这样的旋转，不难发现一个现象——当两个token距离很近时，他们旋转后的向量之间的夹角也会是很小的锐角。当两个token距离很远时，他们旋转后的向量的夹角角度就会更大。在注意力机制计算的过程中，我们是会计算词向量之间的点积来判断token与token的相关性，而两个向量的夹角是锐角时，向量之间的相关性就强，两个向量的夹角越靠近直角时，向量之间的相关性就弱。在旋转位置编码中，距离差距越大、两个向量旋转后的角度越大，因此**旋转位置编码通过在自注意力机制中旋转查询和键向量，使得随着两个词之间距离增加时，两个词之间的注意力分数（点积值）会逐渐衰减，相关性会减弱**，这有助于更好地模拟自然语言中远距离词语关联度降低的现象。\n",
    "\n",
    "那如果两个词距离太远，出现钝角、甚至出现反向的锐角怎么办？当两个向量之间出现钝角时，其相关性也比直角时要强，更不要提反向锐角了！为了避免距离非常遥远的两个token之间反而相关性强，RoPE设计时内嵌了随相对距离增加点积递减的机制，那就是**在计算频率时，位置值越大的词拿到的频率越小**。尽管在极坐标上旋转有可能使一些远离的词向量“接近”或“反向”，但是由于RoPE对长距离的相对位置引入了额外的衰减因子，这种情况下即使形成了反向的锐角，点积值也会因为衰减而减少，从而降低它们的注意力权重。这种情况下，即便在极坐标下形成反向锐角、或者钝角，旋转引入的这种衰减效应也会防止这些词在计算中获得过高的权重。"
   ]
  },
  {
   "cell_type": "code",
   "execution_count": 26,
   "id": "0caef00c-6b55-42b2-94dc-d194fa78735e",
   "metadata": {},
   "outputs": [],
   "source": [
    "#定义频率计算\n",
    "def precompute_pos_cis(dim: int, max_position: int, theta: float = 10000.0):\n",
    "    #频率\n",
    "    freqs = 1.0 / (theta ** (torch.arange(0, dim, 2)[: (dim // 2)].float() / dim))\n",
    "\n",
    "    #位置编码m\n",
    "    m = torch.arange(max_position, device=freqs.device)\n",
    "\n",
    "    #频率乘以位置编码、外积\n",
    "    freqs = torch.outer(m, freqs).float()\n",
    "\n",
    "    #\n",
    "    pos_cis = torch.polar(torch.ones_like(freqs), freqs)\n",
    "    \n",
    "    return pos_cis"
   ]
  },
  {
   "cell_type": "markdown",
   "id": "80ac0294-e800-4ef3-9883-3ca3e9088ca3",
   "metadata": {},
   "source": [
    "- **频率（theta序列）是如何计算的**？"
   ]
  },
  {
   "cell_type": "code",
   "execution_count": 23,
   "id": "a8965fb7-d3ce-4c24-8451-1a036d6a1a26",
   "metadata": {},
   "outputs": [
    {
     "data": {
      "text/plain": [
       "tensor([ 0,  2,  4,  6,  8, 10, 12, 14, 16, 18, 20, 22, 24, 26, 28, 30])"
      ]
     },
     "execution_count": 23,
     "metadata": {},
     "output_type": "execute_result"
    }
   ],
   "source": [
    "dim = 32\n",
    "\n",
    "torch.arange(0, dim, 2)"
   ]
  },
  {
   "cell_type": "code",
   "execution_count": 24,
   "id": "924b81f6-ff2a-4d5e-8979-dfb4fd17726f",
   "metadata": {},
   "outputs": [
    {
     "data": {
      "text/plain": [
       "tensor([ 0,  2,  4,  6,  8, 10, 12, 14, 16, 18, 20, 22, 24, 26, 28, 30])"
      ]
     },
     "execution_count": 24,
     "metadata": {},
     "output_type": "execute_result"
    }
   ],
   "source": [
    "torch.arange(0, dim, 2)[: (dim // 2)]"
   ]
  },
  {
   "cell_type": "code",
   "execution_count": 4,
   "id": "a5e99d8d-d9aa-4897-a5e1-39c12b678c45",
   "metadata": {},
   "outputs": [
    {
     "data": {
      "text/plain": [
       "tensor([ 0,  2,  4,  6,  8, 10, 12, 14, 16, 18, 20, 22, 24, 26, 28, 30, 32])"
      ]
     },
     "execution_count": 4,
     "metadata": {},
     "output_type": "execute_result"
    }
   ],
   "source": [
    "#举例，如果是奇数的话，会得到怎样的结果\n",
    "dim = 33\n",
    "\n",
    "torch.arange(0, dim, 2)"
   ]
  },
  {
   "cell_type": "code",
   "execution_count": 5,
   "id": "44426bae-2774-4b07-9507-d9978fe3055f",
   "metadata": {},
   "outputs": [
    {
     "data": {
      "text/plain": [
       "tensor([ 0,  2,  4,  6,  8, 10, 12, 14, 16, 18, 20, 22, 24, 26, 28, 30])"
      ]
     },
     "execution_count": 5,
     "metadata": {},
     "output_type": "execute_result"
    }
   ],
   "source": [
    "torch.arange(0, dim, 2)[: (dim // 2)]"
   ]
  },
  {
   "cell_type": "code",
   "execution_count": 28,
   "id": "d6d98c37-3c14-4d4d-9862-687e63024ef0",
   "metadata": {},
   "outputs": [
    {
     "data": {
      "text/plain": [
       "tensor([0.0000, 0.0625, 0.1250, 0.1875, 0.2500, 0.3125, 0.3750, 0.4375, 0.5000,\n",
       "        0.5625, 0.6250, 0.6875, 0.7500, 0.8125, 0.8750, 0.9375])"
      ]
     },
     "execution_count": 28,
     "metadata": {},
     "output_type": "execute_result"
    }
   ],
   "source": [
    "#除以原始维度进行归一化，将所有的数据压缩到[0,1]之间\n",
    "#并且，允许列编号越大的特征有更大的值\n",
    "(torch.arange(0, dim, 2)[: (dim // 2)].float() /dim)"
   ]
  },
  {
   "cell_type": "code",
   "execution_count": 37,
   "id": "59ddb770-726e-49a4-8bb7-993429aefb6f",
   "metadata": {},
   "outputs": [
    {
     "data": {
      "text/plain": [
       "tensor([1.0000e+00, 5.6234e-01, 3.1623e-01, 1.7783e-01, 1.0000e-01, 5.6234e-02,\n",
       "        3.1623e-02, 1.7783e-02, 1.0000e-02, 5.6234e-03, 3.1623e-03, 1.7783e-03,\n",
       "        1.0000e-03, 5.6234e-04, 3.1623e-04, 1.7783e-04])"
      ]
     },
     "execution_count": 37,
     "metadata": {},
     "output_type": "execute_result"
    }
   ],
   "source": [
    "1/ (10000 ** (torch.arange(0, dim, 2)[: (dim // 2)].float() /dim))\n",
    "#指数函数，特征维度越大，频率越小"
   ]
  },
  {
   "cell_type": "markdown",
   "id": "8aa30723-6294-4d5b-ab81-b388981e3412",
   "metadata": {},
   "source": [
    "> 频率与维度的关系图（以position = 1为例）"
   ]
  },
  {
   "cell_type": "code",
   "execution_count": 12,
   "id": "ec2ec9d6-797f-4671-a1fa-735de8613fc9",
   "metadata": {
    "jupyter": {
     "source_hidden": true
    }
   },
   "outputs": [
    {
     "data": {
      "image/png": "[encoded data removed]",
      "text/plain": [
       "<Figure size 576x432 with 1 Axes>"
      ]
     },
     "metadata": {
      "needs_background": "light"
     },
     "output_type": "display_data"
    }
   ],
   "source": [
    "import numpy as np\n",
    "import matplotlib.pyplot as plt\n",
    "\n",
    "# Parameters\n",
    "theta = 10000.0\n",
    "dim = 128  # Example dimension size\n",
    "\n",
    "# Calculate freqs as per the formula\n",
    "freqs = 1.0 / (theta ** (np.arange(0, dim, 2)[: (dim // 2)] / dim))\n",
    "\n",
    "# Plotting the freqs\n",
    "plt.figure(figsize=(8, 6))\n",
    "plt.plot(freqs, marker='o', linestyle='-', color='b', label='Freqs vs Dimension')\n",
    "plt.title(\"Change in freqs with increasing dimension\")\n",
    "plt.xlabel(\"Dimension\")\n",
    "plt.ylabel(\"Freqs\")\n",
    "plt.grid(True)\n",
    "plt.legend()\n",
    "plt.show()"
   ]
  },
  {
   "cell_type": "code",
   "execution_count": 38,
   "id": "1dba2562-1d75-408a-bc9e-d2458b6d9f01",
   "metadata": {},
   "outputs": [],
   "source": [
    "m = torch.arange(36, device=freqs.device)"
   ]
  },
  {
   "cell_type": "code",
   "execution_count": 39,
   "id": "3123d12d-a595-4ca3-ab93-7eb603e0a5c4",
   "metadata": {},
   "outputs": [
    {
     "data": {
      "text/plain": [
       "tensor([ 0,  1,  2,  3,  4,  5,  6,  7,  8,  9, 10, 11, 12, 13, 14, 15, 16, 17,\n",
       "        18, 19, 20, 21, 22, 23, 24, 25, 26, 27, 28, 29, 30, 31, 32, 33, 34, 35])"
      ]
     },
     "execution_count": 39,
     "metadata": {},
     "output_type": "execute_result"
    }
   ],
   "source": [
    "m"
   ]
  },
  {
   "cell_type": "code",
   "execution_count": 40,
   "id": "d6b4826f-c4b5-4d81-bbbb-adcaa6fd097f",
   "metadata": {},
   "outputs": [],
   "source": [
    "freqs = 1/ (10000 ** (torch.arange(0, dim, 2)[: (dim // 2)].float() /dim))\n",
    "\n",
    "freqs = torch.outer(m, freqs).float()"
   ]
  },
  {
   "cell_type": "code",
   "execution_count": 41,
   "id": "d08e47dc-4b73-4d8c-8e2b-5aa02b2c3dd5",
   "metadata": {
    "collapsed": true,
    "jupyter": {
     "outputs_hidden": true
    },
    "scrolled": true
   },
   "outputs": [
    {
     "data": {
      "text/plain": [
       "tensor([[0.0000e+00, 0.0000e+00, 0.0000e+00, 0.0000e+00, 0.0000e+00, 0.0000e+00,\n",
       "         0.0000e+00, 0.0000e+00, 0.0000e+00, 0.0000e+00, 0.0000e+00, 0.0000e+00,\n",
       "         0.0000e+00, 0.0000e+00, 0.0000e+00, 0.0000e+00],\n",
       "        [1.0000e+00, 5.6234e-01, 3.1623e-01, 1.7783e-01, 1.0000e-01, 5.6234e-02,\n",
       "         3.1623e-02, 1.7783e-02, 1.0000e-02, 5.6234e-03, 3.1623e-03, 1.7783e-03,\n",
       "         1.0000e-03, 5.6234e-04, 3.1623e-04, 1.7783e-04],\n",
       "        [2.0000e+00, 1.1247e+00, 6.3246e-01, 3.5566e-01, 2.0000e-01, 1.1247e-01,\n",
       "         6.3246e-02, 3.5566e-02, 2.0000e-02, 1.1247e-02, 6.3246e-03, 3.5566e-03,\n",
       "         2.0000e-03, 1.1247e-03, 6.3246e-04, 3.5566e-04],\n",
       "        [3.0000e+00, 1.6870e+00, 9.4868e-01, 5.3348e-01, 3.0000e-01, 1.6870e-01,\n",
       "         9.4868e-02, 5.3348e-02, 3.0000e-02, 1.6870e-02, 9.4868e-03, 5.3348e-03,\n",
       "         3.0000e-03, 1.6870e-03, 9.4868e-04, 5.3348e-04],\n",
       "        [4.0000e+00, 2.2494e+00, 1.2649e+00, 7.1131e-01, 4.0000e-01, 2.2494e-01,\n",
       "         1.2649e-01, 7.1131e-02, 4.0000e-02, 2.2494e-02, 1.2649e-02, 7.1131e-03,\n",
       "         4.0000e-03, 2.2494e-03, 1.2649e-03, 7.1131e-04],\n",
       "        [5.0000e+00, 2.8117e+00, 1.5811e+00, 8.8914e-01, 5.0000e-01, 2.8117e-01,\n",
       "         1.5811e-01, 8.8914e-02, 5.0000e-02, 2.8117e-02, 1.5811e-02, 8.8914e-03,\n",
       "         5.0000e-03, 2.8117e-03, 1.5811e-03, 8.8914e-04],\n",
       "        [6.0000e+00, 3.3740e+00, 1.8974e+00, 1.0670e+00, 6.0000e-01, 3.3740e-01,\n",
       "         1.8974e-01, 1.0670e-01, 6.0000e-02, 3.3740e-02, 1.8974e-02, 1.0670e-02,\n",
       "         6.0000e-03, 3.3740e-03, 1.8974e-03, 1.0670e-03],\n",
       "        [7.0000e+00, 3.9364e+00, 2.2136e+00, 1.2448e+00, 7.0000e-01, 3.9364e-01,\n",
       "         2.2136e-01, 1.2448e-01, 7.0000e-02, 3.9364e-02, 2.2136e-02, 1.2448e-02,\n",
       "         7.0000e-03, 3.9364e-03, 2.2136e-03, 1.2448e-03],\n",
       "        [8.0000e+00, 4.4987e+00, 2.5298e+00, 1.4226e+00, 8.0000e-01, 4.4987e-01,\n",
       "         2.5298e-01, 1.4226e-01, 8.0000e-02, 4.4987e-02, 2.5298e-02, 1.4226e-02,\n",
       "         8.0000e-03, 4.4987e-03, 2.5298e-03, 1.4226e-03],\n",
       "        [9.0000e+00, 5.0611e+00, 2.8460e+00, 1.6005e+00, 9.0000e-01, 5.0611e-01,\n",
       "         2.8460e-01, 1.6005e-01, 9.0000e-02, 5.0611e-02, 2.8461e-02, 1.6005e-02,\n",
       "         9.0000e-03, 5.0611e-03, 2.8461e-03, 1.6005e-03],\n",
       "        [1.0000e+01, 5.6234e+00, 3.1623e+00, 1.7783e+00, 1.0000e+00, 5.6234e-01,\n",
       "         3.1623e-01, 1.7783e-01, 1.0000e-01, 5.6234e-02, 3.1623e-02, 1.7783e-02,\n",
       "         1.0000e-02, 5.6234e-03, 3.1623e-03, 1.7783e-03],\n",
       "        [1.1000e+01, 6.1858e+00, 3.4785e+00, 1.9561e+00, 1.1000e+00, 6.1858e-01,\n",
       "         3.4785e-01, 1.9561e-01, 1.1000e-01, 6.1858e-02, 3.4785e-02, 1.9561e-02,\n",
       "         1.1000e-02, 6.1858e-03, 3.4785e-03, 1.9561e-03],\n",
       "        [1.2000e+01, 6.7481e+00, 3.7947e+00, 2.1339e+00, 1.2000e+00, 6.7481e-01,\n",
       "         3.7947e-01, 2.1339e-01, 1.2000e-01, 6.7481e-02, 3.7947e-02, 2.1339e-02,\n",
       "         1.2000e-02, 6.7481e-03, 3.7947e-03, 2.1339e-03],\n",
       "        [1.3000e+01, 7.3104e+00, 4.1110e+00, 2.3118e+00, 1.3000e+00, 7.3104e-01,\n",
       "         4.1110e-01, 2.3118e-01, 1.3000e-01, 7.3104e-02, 4.1110e-02, 2.3118e-02,\n",
       "         1.3000e-02, 7.3104e-03, 4.1110e-03, 2.3118e-03],\n",
       "        [1.4000e+01, 7.8728e+00, 4.4272e+00, 2.4896e+00, 1.4000e+00, 7.8728e-01,\n",
       "         4.4272e-01, 2.4896e-01, 1.4000e-01, 7.8728e-02, 4.4272e-02, 2.4896e-02,\n",
       "         1.4000e-02, 7.8728e-03, 4.4272e-03, 2.4896e-03],\n",
       "        [1.5000e+01, 8.4351e+00, 4.7434e+00, 2.6674e+00, 1.5000e+00, 8.4351e-01,\n",
       "         4.7434e-01, 2.6674e-01, 1.5000e-01, 8.4351e-02, 4.7434e-02, 2.6674e-02,\n",
       "         1.5000e-02, 8.4351e-03, 4.7434e-03, 2.6674e-03],\n",
       "        [1.6000e+01, 8.9975e+00, 5.0596e+00, 2.8452e+00, 1.6000e+00, 8.9975e-01,\n",
       "         5.0596e-01, 2.8452e-01, 1.6000e-01, 8.9975e-02, 5.0596e-02, 2.8452e-02,\n",
       "         1.6000e-02, 8.9975e-03, 5.0596e-03, 2.8452e-03],\n",
       "        [1.7000e+01, 9.5598e+00, 5.3759e+00, 3.0231e+00, 1.7000e+00, 9.5598e-01,\n",
       "         5.3759e-01, 3.0231e-01, 1.7000e-01, 9.5598e-02, 5.3759e-02, 3.0231e-02,\n",
       "         1.7000e-02, 9.5598e-03, 5.3759e-03, 3.0231e-03],\n",
       "        [1.8000e+01, 1.0122e+01, 5.6921e+00, 3.2009e+00, 1.8000e+00, 1.0122e+00,\n",
       "         5.6921e-01, 3.2009e-01, 1.8000e-01, 1.0122e-01, 5.6921e-02, 3.2009e-02,\n",
       "         1.8000e-02, 1.0122e-02, 5.6921e-03, 3.2009e-03],\n",
       "        [1.9000e+01, 1.0684e+01, 6.0083e+00, 3.3787e+00, 1.9000e+00, 1.0684e+00,\n",
       "         6.0083e-01, 3.3787e-01, 1.9000e-01, 1.0684e-01, 6.0083e-02, 3.3787e-02,\n",
       "         1.9000e-02, 1.0684e-02, 6.0083e-03, 3.3787e-03],\n",
       "        [2.0000e+01, 1.1247e+01, 6.3246e+00, 3.5566e+00, 2.0000e+00, 1.1247e+00,\n",
       "         6.3246e-01, 3.5566e-01, 2.0000e-01, 1.1247e-01, 6.3246e-02, 3.5566e-02,\n",
       "         2.0000e-02, 1.1247e-02, 6.3246e-03, 3.5566e-03],\n",
       "        [2.1000e+01, 1.1809e+01, 6.6408e+00, 3.7344e+00, 2.1000e+00, 1.1809e+00,\n",
       "         6.6408e-01, 3.7344e-01, 2.1000e-01, 1.1809e-01, 6.6408e-02, 3.7344e-02,\n",
       "         2.1000e-02, 1.1809e-02, 6.6408e-03, 3.7344e-03],\n",
       "        [2.2000e+01, 1.2372e+01, 6.9570e+00, 3.9122e+00, 2.2000e+00, 1.2372e+00,\n",
       "         6.9570e-01, 3.9122e-01, 2.2000e-01, 1.2372e-01, 6.9570e-02, 3.9122e-02,\n",
       "         2.2000e-02, 1.2372e-02, 6.9570e-03, 3.9122e-03],\n",
       "        [2.3000e+01, 1.2934e+01, 7.2732e+00, 4.0900e+00, 2.3000e+00, 1.2934e+00,\n",
       "         7.2732e-01, 4.0900e-01, 2.3000e-01, 1.2934e-01, 7.2732e-02, 4.0900e-02,\n",
       "         2.3000e-02, 1.2934e-02, 7.2732e-03, 4.0900e-03],\n",
       "        [2.4000e+01, 1.3496e+01, 7.5895e+00, 4.2679e+00, 2.4000e+00, 1.3496e+00,\n",
       "         7.5895e-01, 4.2679e-01, 2.4000e-01, 1.3496e-01, 7.5895e-02, 4.2679e-02,\n",
       "         2.4000e-02, 1.3496e-02, 7.5895e-03, 4.2679e-03],\n",
       "        [2.5000e+01, 1.4059e+01, 7.9057e+00, 4.4457e+00, 2.5000e+00, 1.4059e+00,\n",
       "         7.9057e-01, 4.4457e-01, 2.5000e-01, 1.4059e-01, 7.9057e-02, 4.4457e-02,\n",
       "         2.5000e-02, 1.4059e-02, 7.9057e-03, 4.4457e-03],\n",
       "        [2.6000e+01, 1.4621e+01, 8.2219e+00, 4.6235e+00, 2.6000e+00, 1.4621e+00,\n",
       "         8.2219e-01, 4.6235e-01, 2.6000e-01, 1.4621e-01, 8.2219e-02, 4.6235e-02,\n",
       "         2.6000e-02, 1.4621e-02, 8.2219e-03, 4.6235e-03],\n",
       "        [2.7000e+01, 1.5183e+01, 8.5381e+00, 4.8014e+00, 2.7000e+00, 1.5183e+00,\n",
       "         8.5382e-01, 4.8014e-01, 2.7000e-01, 1.5183e-01, 8.5382e-02, 4.8014e-02,\n",
       "         2.7000e-02, 1.5183e-02, 8.5382e-03, 4.8014e-03],\n",
       "        [2.8000e+01, 1.5746e+01, 8.8544e+00, 4.9792e+00, 2.8000e+00, 1.5746e+00,\n",
       "         8.8544e-01, 4.9792e-01, 2.8000e-01, 1.5746e-01, 8.8544e-02, 4.9792e-02,\n",
       "         2.8000e-02, 1.5746e-02, 8.8544e-03, 4.9792e-03],\n",
       "        [2.9000e+01, 1.6308e+01, 9.1706e+00, 5.1570e+00, 2.9000e+00, 1.6308e+00,\n",
       "         9.1706e-01, 5.1570e-01, 2.9000e-01, 1.6308e-01, 9.1706e-02, 5.1570e-02,\n",
       "         2.9000e-02, 1.6308e-02, 9.1706e-03, 5.1570e-03],\n",
       "        [3.0000e+01, 1.6870e+01, 9.4868e+00, 5.3348e+00, 3.0000e+00, 1.6870e+00,\n",
       "         9.4868e-01, 5.3348e-01, 3.0000e-01, 1.6870e-01, 9.4868e-02, 5.3348e-02,\n",
       "         3.0000e-02, 1.6870e-02, 9.4868e-03, 5.3348e-03],\n",
       "        [3.1000e+01, 1.7433e+01, 9.8031e+00, 5.5127e+00, 3.1000e+00, 1.7433e+00,\n",
       "         9.8031e-01, 5.5127e-01, 3.1000e-01, 1.7433e-01, 9.8031e-02, 5.5127e-02,\n",
       "         3.1000e-02, 1.7433e-02, 9.8031e-03, 5.5127e-03],\n",
       "        [3.2000e+01, 1.7995e+01, 1.0119e+01, 5.6905e+00, 3.2000e+00, 1.7995e+00,\n",
       "         1.0119e+00, 5.6905e-01, 3.2000e-01, 1.7995e-01, 1.0119e-01, 5.6905e-02,\n",
       "         3.2000e-02, 1.7995e-02, 1.0119e-02, 5.6905e-03],\n",
       "        [3.3000e+01, 1.8557e+01, 1.0436e+01, 5.8683e+00, 3.3000e+00, 1.8557e+00,\n",
       "         1.0436e+00, 5.8683e-01, 3.3000e-01, 1.8557e-01, 1.0436e-01, 5.8683e-02,\n",
       "         3.3000e-02, 1.8557e-02, 1.0436e-02, 5.8683e-03],\n",
       "        [3.4000e+01, 1.9120e+01, 1.0752e+01, 6.0461e+00, 3.4000e+00, 1.9120e+00,\n",
       "         1.0752e+00, 6.0462e-01, 3.4000e-01, 1.9120e-01, 1.0752e-01, 6.0461e-02,\n",
       "         3.4000e-02, 1.9120e-02, 1.0752e-02, 6.0461e-03],\n",
       "        [3.5000e+01, 1.9682e+01, 1.1068e+01, 6.2240e+00, 3.5000e+00, 1.9682e+00,\n",
       "         1.1068e+00, 6.2240e-01, 3.5000e-01, 1.9682e-01, 1.1068e-01, 6.2240e-02,\n",
       "         3.5000e-02, 1.9682e-02, 1.1068e-02, 6.2240e-03]])"
      ]
     },
     "execution_count": 41,
     "metadata": {},
     "output_type": "execute_result"
    }
   ],
   "source": [
    "freqs"
   ]
  },
  {
   "cell_type": "code",
   "execution_count": 43,
   "id": "1fcf67bf-08d7-4cfa-b24a-f94b5f18176e",
   "metadata": {},
   "outputs": [
    {
     "data": {
      "text/plain": [
       "torch.Size([128, 256])"
      ]
     },
     "execution_count": 43,
     "metadata": {},
     "output_type": "execute_result"
    }
   ],
   "source": [
    "precompute_pos_cis(dim=512, max_position = 128, theta=10000).shape\n",
    "# (seq_len,d_model/2)"
   ]
  },
  {
   "cell_type": "code",
   "execution_count": 18,
   "id": "ca811703-53ec-472a-a669-3e6d02a86eca",
   "metadata": {},
   "outputs": [
    {
     "data": {
      "text/plain": [
       "tensor([[ 1.0000+0.0000e+00j,  1.0000+0.0000e+00j,  1.0000+0.0000e+00j,\n",
       "          ...,  1.0000+0.0000e+00j,  1.0000+0.0000e+00j,\n",
       "          1.0000+0.0000e+00j],\n",
       "        [ 0.5403+8.4147e-01j,  0.5697+8.2186e-01j,  0.5974+8.0196e-01j,\n",
       "          ...,  1.0000+1.1140e-04j,  1.0000+1.0746e-04j,\n",
       "          1.0000+1.0366e-04j],\n",
       "        [-0.4161+9.0930e-01j, -0.3509+9.3641e-01j, -0.2863+9.5814e-01j,\n",
       "          ...,  1.0000+2.2279e-04j,  1.0000+2.1492e-04j,\n",
       "          1.0000+2.0733e-04j],\n",
       "        ...,\n",
       "        [ 0.7877-6.1604e-01j,  0.3603+9.3283e-01j, -0.9966-8.2481e-02j,\n",
       "          ...,  0.9999+1.3924e-02j,  0.9999+1.3432e-02j,\n",
       "          0.9999+1.2958e-02j],\n",
       "        [ 0.9440+3.2999e-01j, -0.5614+8.2756e-01j, -0.5292-8.4850e-01j,\n",
       "          ...,  0.9999+1.4036e-02j,  0.9999+1.3540e-02j,\n",
       "          0.9999+1.3061e-02j],\n",
       "        [ 0.2324+9.7263e-01j, -0.9999+1.0082e-02j,  0.3643-9.3127e-01j,\n",
       "          ...,  0.9999+1.4147e-02j,  0.9999+1.3647e-02j,\n",
       "          0.9999+1.3165e-02j]])"
      ]
     },
     "execution_count": 18,
     "metadata": {},
     "output_type": "execute_result"
    }
   ],
   "source": [
    "precompute_pos_cis(dim=512, max_position = 128, theta=10000)"
   ]
  },
  {
   "cell_type": "markdown",
   "id": "380358e5-343d-414a-81ea-f42f089823fb",
   "metadata": {},
   "source": [
    "- **polars是什么函数？为什么会出现复数结果？**"
   ]
  },
  {
   "attachments": {},
   "cell_type": "markdown",
   "id": "cce58ad9-76cc-40a7-9139-581530260a7f",
   "metadata": {},
   "source": [
    "`torch.polar(abs, angle)` 是 PyTorch 中的一个函数，它将给定的模长（`abs`）和角度（`angle`）转换为复数形式。复数的表示方式如下：\n",
    "$$ z = r \\cdot e^{i \\theta} $$\n",
    "其中：\n",
    "- $ z $ 是复数，\n",
    "- $ r $ 是模长，\n",
    "- $ \\theta $是角度，\n",
    "- $ i $ 是虚数单位。\n",
    "\n",
    "`torch.polar(torch.ones_like(freqs), freqs)` 表示生成了复数，其模长为1，角度为 `freqs`。因此，`pos_cis` 包含的每个值都是单位模长的复数，且角度根据 `freqs`（频率）变化。复数在很多场景中用于表示角度旋转、周期性现象（如正弦波和余弦波）和信号处理。在频率编码中，通过使用复数的极坐标形式，便于对旋转的角度进行编码。如果你不想使用复数表示，可以考虑直接使用 `torch.sin()` 和 `torch.cos()` 来对频率进行编码。例如：\n",
    "\n",
    "```python\n",
    "# 直接使用 sin 和 cos 进行位置编码\n",
    "pos_enc_sin = torch.sin(freqs)\n",
    "pos_enc_cos = torch.cos(freqs)\n",
    "\n",
    "# 合并 sin 和 cos 的编码\n",
    "pos_enc = torch.cat([pos_enc_sin, pos_enc_cos], dim=-1)\n",
    "```\n",
    "\n",
    "这样你就可以避免使用复数，并且能够直接获得与传统位置编码相似的正弦和余弦形式。"
   ]
  },
  {
   "cell_type": "markdown",
   "id": "2807dd43-e029-4b76-9913-2b6502e2d1e5",
   "metadata": {},
   "source": [
    "- **旋转位置编码仅用于Q和K矩阵**"
   ]
  },
  {
   "cell_type": "markdown",
   "id": "71221069-0b7b-485d-8b3f-993baf905038",
   "metadata": {},
   "source": [
    "在 LLaMA 中，旋转位置编码（RoPE, Rotary Position Embedding）仅用于 **Q**（Query）和 **K**（Key）矩阵，而不应用于 **V**（Value）矩阵，这有特定的数学和功能性原因，主要与 **自注意力机制** 的工作原理以及相对位置信息的处理方式有关。\n",
    "\n",
    "1. **QK 矩阵与相对位置编码的关联**：\n",
    "\n",
    "在自注意力机制中，注意力权重通过计算 Query 和 Key 的点积来获得，具体公式为：\n",
    "$$\n",
    "\\text{Attention}(Q, K, V) = \\text{softmax}\\left(\\frac{QK^T}{\\sqrt{d_k}}\\right) V\n",
    "$$\n",
    "其中 $ Q $ 是查询矩阵，$ K$ 是键矩阵，$ V $ 是值矩阵。\n",
    "\n",
    "通过这种计算，**Query 和 Key 的点积决定了每个位置之间的相对相关性**。如果我们希望通过位置编码让模型意识到输入序列中元素的相对位置，那么只需将旋转位置编码应用于 **Q** 和 **K**，因为它们参与了点积计算，并直接影响注意力得分。\n",
    "\n",
    "- **RoPE 为 QK 计算引入相对位置感知**：  \n",
    "  RoPE 的旋转操作对 Q 和 K 矩阵的特征进行旋转变换，这会改变它们的内积结果，从而为模型注入了相对位置信息。这样，RoPE 能够在 QK 点积时，隐含地捕捉到输入序列中元素之间的相对位置关系。"
   ]
  },
  {
   "cell_type": "markdown",
   "id": "306466da-9e80-4dce-bcae-2ad312fc796a",
   "metadata": {},
   "source": [
    "2. **为什么不对 V（Value）矩阵应用 RoPE**：\n",
    "\n",
    "- **V 矩阵的作用**：  \n",
    "  Value 矩阵 $ V $ 不参与注意力权重的计算，而是用于对注意力权重加权后的特征进行值传递。换句话说，**V 矩阵携带的是特征信息**，而不是决定哪些特征与哪些位置相关联。\n",
    "\n",
    "- **RoPE 的作用与相对位置无关**：  \n",
    "  因为 RoPE 的主要作用是为 Q 和 K 的点积引入相对位置感知，而 V 矩阵只是根据计算出的注意力权重进行加权，没有必要加入位置信息。如果对 V 矩阵也应用 RoPE，反而会破坏其携带的原始特征信息，不利于最终的模型表现。"
   ]
  },
  {
   "cell_type": "markdown",
   "id": "e31723f1-7737-4685-8ee1-745094c2a21b",
   "metadata": {},
   "source": [
    "3. **RoPE 提供的相对位置感知**：\n",
    "自注意力机制的重点在于位置之间的相对关系，而不是每个位置的绝对位置。RoPE 正是通过对 Q 和 K 矩阵进行旋转，将相对位置信息引入点积结果中。由于 V 矩阵不参与计算相似性，使用 RoPE 对其进行变换没有实际意义，反而会导致不必要的复杂性。"
   ]
  },
  {
   "cell_type": "markdown",
   "id": "5c3d3ef7-20c7-476a-92cb-c1e65855c946",
   "metadata": {},
   "source": [
    "4. **计算复杂度和效率的考虑**：\n",
    "自注意力机制的计算量主要集中在 QK 点积和注意力权重的计算上。如果对 V 矩阵也应用 RoPE，会增加额外的计算复杂度和参数量，而这些额外的操作并不会对模型的性能带来明显改善。因此，RoPE 只应用于 Q 和 K，有助于保持计算效率。"
   ]
  },
  {
   "cell_type": "code",
   "execution_count": 18,
   "id": "776837ee-6d38-42cc-a089-d8ba2c85d2a8",
   "metadata": {},
   "outputs": [],
   "source": [
    "#将频率用于q、k矩阵\n",
    "def apply_rotary_emb(xq, xk, pos_cis):\n",
    "    def unite_shape(pos_cis, x):\n",
    "        ndim = x.ndim\n",
    "        assert 0 <= 1 < ndim\n",
    "        print(pos_cis.shape)\n",
    "        print(x.shape[1])\n",
    "        print(x.shape[-1])\n",
    "        assert pos_cis.shape == (x.shape[1], x.shape[-1])\n",
    "        shape = [d if i == 1 or i == ndim - 1 else 1 for i, d in enumerate(x.shape)]\n",
    "        return pos_cis.view(*shape)\n",
    "\n",
    "    xq_ = torch.view_as_complex(xq.float().reshape(*xq.shape[:-1], -1, 2))\n",
    "    xk_ = torch.view_as_complex(xk.float().reshape(*xk.shape[:-1], -1, 2))\n",
    "    pos_cis = unite_shape(pos_cis, xq_)\n",
    "    xq_out = torch.view_as_real(xq_ * pos_cis).flatten(3)\n",
    "    xk_out = torch.view_as_real(xk_ * pos_cis).flatten(3)\n",
    "    return xq_out.type_as(xq), xk_out.type_as(xk)"
   ]
  },
  {
   "cell_type": "markdown",
   "id": "0a8c9165-a424-4237-b6bb-0963fde25443",
   "metadata": {},
   "source": [
    "这个函数 `apply_rotary_emb` 用于在计算自注意力机制时将旋转嵌入（rotary embeddings）应用到查询（`q`）和键（`k`）矩阵上。这种旋转嵌入是通过将频率（`pos_cis`）与 `q` 和 `k` 矩阵相结合来实现的，目的是提升模型对位置信息的编码能力。以下是逐行注释：\n",
    "\n",
    "```python\n",
    "# 将频率（位置编码）应用于查询矩阵 q 和键矩阵 k\n",
    "def apply_rotary_emb(xq, xk, pos_cis):\n",
    "    # 内部函数：用于调整 pos_cis（位置编码）的形状，使其与输入张量 x 的形状匹配\n",
    "    def unite_shape(pos_cis, x):\n",
    "        # 注意这里输入的x是已经转变为复数的Q和K矩阵\n",
    "        # 复数Q、K矩阵的维度与实数Q、K矩阵的维度有区别\n",
    "        # 例如，当实数Q矩阵的结构为 (10,128,512) 时\n",
    "        # 复数Q矩阵的结构为(10,128,256,2)，其中后两位代表复数的实部和虚部\n",
    "        # 此时如果对Q矩阵取最后一维索引，会得到最后一个实部，也就是256\n",
    "        # 获取输入张量的维度数量\n",
    "        ndim = x.ndim\n",
    "        # 确保输入张量的维度数是有效的\n",
    "        assert 0 <= 1 < ndim\n",
    "        # 确保 pos_cis 的形状与输入 x 的形状中的seq_len, d_model维度匹配\n",
    "        assert pos_cis.shape == (x.shape[1], x.shape[-1])\n",
    "        # 构造新的形状，除了第二维度和最后一维度之外，其他维度都设置为 1\n",
    "        # 这是为了广播 pos_cis 以匹配输入 x 的形状\n",
    "        shape = [d if i == 1 or i == ndim - 1 else 1 for i, d in enumerate(x.shape)]\n",
    "        # 调整 pos_cis 的形状为新的 shape\n",
    "        return pos_cis.view(*shape)\n",
    "\n",
    "    # 将查询张量 xq 的最后一个维度视为复数的一部分，形状变为 (*xq.shape[:-1], -1, 2)\n",
    "    # 这意味着将最后一维度按 2 拆分，转换为复数表示（因为一个复数由实部和虚部组成）\n",
    "    xq_ = torch.view_as_complex(xq.float().reshape(*xq.shape[:-1], -1, 2))\n",
    "\n",
    "    # 对键张量 xk 做同样的处理，将其转换为复数形式\n",
    "    xk_ = torch.view_as_complex(xk.float().reshape(*xk.shape[:-1], -1, 2))\n",
    "\n",
    "    # 调整 pos_cis 的形状，使其与查询矩阵 xq_ 的形状匹配\n",
    "    pos_cis = unite_shape(pos_cis, xq_)\n",
    "\n",
    "    # 将旋转嵌入应用到查询矩阵，复数乘法会影响幅度和相位\n",
    "    # 然后将复数结果转换回实数形式并将其展平（恢复到原来的维度结构）\n",
    "    xq_out = torch.view_as_real(xq_ * pos_cis).flatten(3)\n",
    "\n",
    "    # 对键矩阵做同样的操作，应用旋转嵌入\n",
    "    xk_out = torch.view_as_real(xk_ * pos_cis).flatten(3)\n",
    "\n",
    "    # 返回处理后的查询矩阵和键矩阵，且类型与输入张量相同\n",
    "    return xq_out.type_as(xq), xk_out.type_as(xk)\n",
    "```\n",
    "\n",
    "- 总结：\n",
    "1. **输入参数：**\n",
    "   - `xq`: 查询矩阵，通常来自自注意力机制中的查询。\n",
    "   - `xk`: 键矩阵，通常来自自注意力机制中的键。\n",
    "   - `pos_cis`: 位置编码信息，通常是通过旋转嵌入（rotary embeddings）生成的。"
   ]
  },
  {
   "cell_type": "markdown",
   "id": "612cce1a-1300-472f-aa02-f8eeccbbf58f",
   "metadata": {},
   "source": [
    "2. **关键步骤：**\n",
    "   - **`unite_shape`**: 调整 `pos_cis` 的形状，使其可以通过广播机制与 `xq` 和 `xk` 相乘。\n",
    "   - **`torch.view_as_complex`**: 将查询矩阵 `xq` 和键矩阵 `xk` 的最后一维转换为复数表示（通过将最后一维分成实部和虚部）。\n",
    "   - **复数乘法**：将复数表示的 `xq` 和 `xk` 分别与位置编码 `pos_cis` 进行复数乘法。复数乘法会同时影响向量的幅度和相位（实现位置编码的效果）。\n",
    "   - **`torch.view_as_real`**: 将复数乘法的结果转换回实数形式，并将结果展平为原来的形状。\n",
    "   - **`flatten(3)`**: 展平最后两个维度，使得张量形状回归到与输入相同的结构。"
   ]
  },
  {
   "cell_type": "markdown",
   "id": "a17250b2-5db0-47bf-a25c-d6e50984a008",
   "metadata": {},
   "source": [
    "3. **返回：**\n",
    "   - 返回应用了旋转嵌入的查询矩阵和键矩阵。"
   ]
  },
  {
   "cell_type": "markdown",
   "id": "6fba7d24-3bd7-4e3f-8435-08073741b263",
   "metadata": {},
   "source": [
    "- **为什么不直接使用正余弦位置编码？旋转位置编码有什么好处？**"
   ]
  },
  {
   "cell_type": "markdown",
   "id": "cdde1951-6e31-4cac-8d60-6068d8d899cc",
   "metadata": {},
   "source": [
    "1. **相对位置信息的编码**：与传统的正余弦编码主要侧重于绝对位置不同，RoPE能够自然地融入**相对位置信息**。这使得模型可以更好地理解序列中各个词之间的相对关系，对于那些词与词之间距离影响其关联性的任务尤为重要。RoPE通过在注意力机制中旋转查询和键向量，并且随着词之间距离的增加，它们的内积逐渐减弱，这有助于更好地模拟自然语言中远距离词语关联度降低的现象。\n",
    "\n",
    "**正余弦位置编码**（Positional Encoding）的确利用了周期性函数（如正弦和余弦）来表示位置信息，其基本原理是通过不同频率的正弦和余弦函数来为每个位置分配一个独特的向量。这个向量的不同维度对不同频率进行编码，从而使得每个位置都有一个唯一的编码值，因此正余弦编码虽然是周期性的，但**它本质上是绝对位置编码**，因为它依赖于位置的绝对值。也就是说，它为每个特定的位置生成一个固定的编码，而不考虑其他位置。例如，序列中的第5个词和第10个词，即使它们距离很近或很远，它们的编码值只取决于它们在序列中的具体位置（即位置5和位置10），而不是它们之间的相对距离。相比之下，旋转位置编码（RoPE）将关注点放在相对位置上。它通过在自注意力机制中旋转查询和键向量，使得随着两个词之间距离的增加，它们的点积逐渐衰减，从而在模型中直接融入相对位置信息。这样，旋转位置编码可以更好地处理序列中相对距离的变化，而正余弦编码则更专注于词语的绝对位置。\n",
    "\n",
    "2. **对序列长度的适应性**：旋转位置编码在序列长度上具有很高的灵活性。传统的正余弦编码在处理超出训练时序列长度的情况下，性能往往会下降，而RoPE可以轻松扩展到不同的序列长度，且性能下降较小。这是因为旋转过程不依赖于固定的长度，能够在不同长度的序列中保持有效性。\n",
    "\n",
    "3. **高效且乘法式的编码方式**：RoPE使用乘法方法，而不是传统位置编码中的加法方法。这种方式可以在为模型提供位置上下文的同时，保留更多原始词嵌入的信息。此外，旋转的性质在结合线性注意力机制时能保证稳定性和计算效率，使RoPE在某些大规模模型中成为一种更为高效的选择。\n",
    "\n",
    "总的来说，RoPE的优势在于其对相对位置的编码能力以及对不同长度序列的适应性，使其成为在LLaMA等基于Transformer架构中的一种强大且灵活的替代方案。"
   ]
  },
  {
   "cell_type": "markdown",
   "id": "92ab58c9-7241-4cb6-a5fb-5a49dd414949",
   "metadata": {},
   "source": [
    "## 4. LLaMA中的注意力机制与kv缓存"
   ]
  },
  {
   "cell_type": "markdown",
   "id": "a2a70e10-c5fe-4760-b14f-46af96caa579",
   "metadata": {},
   "source": [
    "**KV缓存（Key-Value Cache）**机制在Transformer模型的自回归生成任务中（如文本生成）是一种重要的加速技术，尤其是在处理长序列时。它能够减少重复计算，从而加速推理过程。这种机制主要应用于**解码器**架构，常见于GPT系列模型等自回归模型。在自回归生成任务中，模型逐步生成序列中的每个token。例如，在文本生成中，每一步生成一个新的token，然后将这个token与之前的所有tokens一起重新输入模型，预测下一个token。对于每一步的生成，模型会重新计算所有tokens的注意力（self-attention），包括所有历史tokens（即已经生成的tokens）和当前生成的token。\n",
    "\n",
    "在Transformer的每一层中，注意力机制会基于输入生成**查询（Query）**、**键（Key）**和**值（Value）**。计算公式如下：\n",
    "\n",
    "$$\n",
    "\\text{Attention}(Q, K, V) = \\text{softmax}\\left(\\frac{QK^T}{\\sqrt{d_k}}\\right) V\n",
    "$$\n",
    "\n",
    "- `Query` 表示当前token的信息，它用于寻找与其他tokens相关的内容。\n",
    "- `Key` 和 `Value` 分别代表历史tokens的信息，它们在每个生成步骤中被重新计算。\n",
    "\n",
    "这种重新计算会导致计算量成倍增加。例如，如果生成了100个token，每一步都会重新计算前面99个token和当前token的注意力，这样的重复计算是非常耗时的。**KV缓存机制**的核心思想是避免重复计算注意力层（self-attention）中的键（Key）和值（Value）。KV缓存通过将生成过程中每个token的Key和Value保存在缓存中，只在第一次生成时计算一次Key和Value。在生成后续token时，模型只需要计算新token的Query，而可以直接使用缓存中已经存储的Key和Value，避免了对历史tokens的重复计算。"
   ]
  },
  {
   "cell_type": "markdown",
   "id": "d41076e4-0d84-4e46-a445-5dadd0e7c30b",
   "metadata": {},
   "source": [
    "- **工作原理**\n",
    "\n",
    "以下是KV缓存机制的详细工作原理。注意，**KV缓存大部分时候适用于推理，因此这个流程大部分时候是自回归的**。\n",
    "\n",
    "1. **初始化**：\n",
    "   - 当生成开始时，模型计算输入序列的Key和Value，并将这些计算结果缓存起来，保存在内存中。\n",
    "     \n",
    "   - **大部分时候，每个注意力层都会有一对Key-Value缓存，这个缓存是在自回归的每次循环中共用。然而，有时我们也可以在多头注意力机制中、只保留一个头或两个头上的KV值，并共享给所有的头使用**。其中，每次循环中的kv缓存，是推理中常见的用法。多头共享kv的缓存，可以被用于训练和推理两个流程，但可能伤害训练的结果。\n",
    "     \n",
    "   - 这些缓存的Key和Value会存储到KV缓存中，并作为后续生成步骤中的参考。"
   ]
  },
  {
   "cell_type": "markdown",
   "id": "d4508c3f-d13b-4c9d-9b0e-6bf3d8569dee",
   "metadata": {},
   "source": [
    "2. **生成过程中**：\n",
    "   - 当生成下一个token时，模型不需要重新计算前面已经生成的token的Key和Value。它会直接使用之前缓存的Key和Value。\n",
    "   - 只需要计算当前token的Query，并将它与已经缓存的Key进行点积计算，得出注意力分数。\n",
    "   - 这些注意力分数会结合缓存的Value来计算当前token的输出。"
   ]
  },
  {
   "cell_type": "markdown",
   "id": "3dc375df-a0fc-477b-8315-e32eba6ef4da",
   "metadata": {},
   "source": [
    "3. **更新缓存**：\n",
    "   - 对于每一个生成步骤，模型还会将当前生成的token的Key和Value加入缓存，确保缓存中的Key和Value始终保持更新，包含所有已经生成的tokens。\n",
    "   - 缓存的大小会逐渐增加，最终会包含所有生成序列的Key和Value。"
   ]
  },
  {
   "cell_type": "markdown",
   "id": "238971cc-1ef1-42ca-ab67-fad726b88a17",
   "metadata": {},
   "source": [
    "4. **加速效果**：\n",
    "   - 由于每个生成步骤只需要计算当前token的Query，而不需要重新计算整个序列的Key和Value，这大大减少了计算量。\n",
    "   - 随着序列长度增加，缓存的使用能够显著减少时间复杂度，使生成过程更快。"
   ]
  },
  {
   "cell_type": "markdown",
   "id": "8b6ec304-2a73-47f8-a73f-7eb351306b4c",
   "metadata": {},
   "source": [
    "- **实现代码**"
   ]
  },
  {
   "cell_type": "code",
   "execution_count": 32,
   "id": "1a8904a8-4172-4324-a2cc-f6306c3227bb",
   "metadata": {},
   "outputs": [],
   "source": [
    "def repeat_kv(x: torch.Tensor, n_rep: int) -> torch.Tensor:\n",
    "    \"\"\"torch.repeat_interleave(x, dim=2, repeats=n_rep)\"\"\"\n",
    "    bs, slen, n_kv_heads, head_dim = x.shape\n",
    "    if n_rep == 1:\n",
    "        return x\n",
    "    return (\n",
    "        x[:, :, :, None, :]\n",
    "        .expand(bs, slen, n_kv_heads, n_rep, head_dim)\n",
    "        .reshape(bs, slen, n_kv_heads * n_rep, head_dim)\n",
    "    )"
   ]
  },
  {
   "cell_type": "markdown",
   "id": "639106ec-c7f9-42cf-bc51-e3881dd0a15e",
   "metadata": {},
   "source": [
    "代码解读——"
   ]
  },
  {
   "cell_type": "code",
   "execution_count": 45,
   "id": "9d21d6db-799d-4856-b704-583dafde0dd5",
   "metadata": {},
   "outputs": [],
   "source": [
    "def repeat_kv(x: torch.Tensor, n_rep: int) -> torch.Tensor:\n",
    "    \"\"\"torch.repeat_interleave(x, dim=2, repeats=n_rep)\"\"\"\n",
    "    # 定义函数 repeat_kv，接受两个参数：张量 x 和重复次数 n_rep\n",
    "    # x 是一个形状为 (bs, slen, n_kv_heads, head_dim) 的张量，分别代表：\n",
    "    # bs: 批次大小 (batch size)\n",
    "    # slen: 序列长度 (sequence length)\n",
    "    # n_kv_heads: KV 头的数量 (number of key-value heads)\n",
    "    # head_dim: 每个头的维度大小 (dimension size of each head)\n",
    "    # n_rep: 重复次数\n",
    "\n",
    "    # 获取张量的形状 (bs: 批次大小, slen: 序列长度, n_kv_heads: KV 头的数量, head_dim: 每个头的维度)\n",
    "    bs, slen, n_kv_heads, head_dim = x.shape\n",
    "\n",
    "    # 如果 n_rep 为 1，表示不需要重复，直接返回原始张量\n",
    "    if n_rep == 1:\n",
    "        return x\n",
    "\n",
    "    # 执行以下操作以重复 KV 头：\n",
    "    # 1. 在第 4 维度 (即 None) 上扩展 x，使其形状为 (bs, slen, n_kv_heads, 1, head_dim)\n",
    "    # 2. 使用 expand 函数将第 4 维度扩展为 n_rep，得到形状 (bs, slen, n_kv_heads, n_rep, head_dim)\n",
    "    # 3. 最后通过 reshape 将形状重新调整为 (bs, slen, n_kv_heads * n_rep, head_dim)\n",
    "    # 这会将每个 KV 头重复 n_rep 次\n",
    "    return (\n",
    "        x[:, :, :, None, :]                       # 扩展张量，在 n_kv_heads 后增加一个维度\n",
    "        .expand(bs, slen, n_kv_heads, n_rep, head_dim)  # 扩展 n_rep 次\n",
    "        .reshape(bs, slen, n_kv_heads * n_rep, head_dim)  # 调整形状为新的维度\n",
    "    )"
   ]
  },
  {
   "cell_type": "markdown",
   "id": "d29d6cac-28a1-4e52-a3d6-9a370504a9b6",
   "metadata": {},
   "source": [
    "<font color=\"red\">**根据我们的解读，不难看出，这一段代码是允许多头注意力机制的多个头共享kv缓存的代码。如果要让每个头都拥有自己独特的k和v，只在推理过程中每个循环中进行缓存，那只要让n_rep=1即可。**</font>"
   ]
  },
  {
   "cell_type": "markdown",
   "id": "8f7a3b42-0d4f-4c58-88da-6575401f5832",
   "metadata": {},
   "source": [
    "- KV缓存的优点\n",
    "\n",
    "1. **提高生成速度**：由于避免了对已经生成token的重复计算，KV缓存机制可以显著减少生成时间，特别是在长序列生成任务中。\n",
    "   \n",
    "2. **节省计算资源**：缓存Key和Value后，每一步生成仅需计算当前token的Query，而Key和Value可以从缓存中提取，从而大幅减少每一步的计算量。\n",
    "\n",
    "3. **降低复杂度**：使用缓存后，生成过程中的注意力机制从 O(n²) 降为 O(n)，其中 n 是序列长度。对于长序列生成任务，这种加速效果尤为显著。"
   ]
  },
  {
   "cell_type": "markdown",
   "id": "bf3af849-75d0-4eb5-859f-9f3285dfb7ec",
   "metadata": {},
   "source": [
    "- KV缓存与DeepSpeed和Hugging Face的结合\n",
    "\n",
    "> - **DeepSpeed**：KV缓存在DeepSpeed等加速框架中发挥更大作用，DeepSpeed可以进一步优化KV缓存的使用，利用其高效的并行和内存管理机制，进一步提升生成过程中的性能。<br><br>\n",
    "> - **Hugging Face**：Hugging Face的模型可以直接支持KV缓存，特别是其`generate`函数可以通过指定`kv_cache=True`来启用KV缓存，优化推理和生成过程。"
   ]
  },
  {
   "cell_type": "code",
   "execution_count": 11,
   "id": "4815b8d8-a56a-41a7-ba71-1b971ed1a27b",
   "metadata": {},
   "outputs": [],
   "source": [
    "#在运行Attention之前，你首先需要设置好配置文件LMConfig\n",
    "#我们所有的参数都从LMConfig里面导入"
   ]
  },
  {
   "cell_type": "code",
   "execution_count": 206,
   "id": "fb2af69d-5820-4600-b93c-9b34f890f8d8",
   "metadata": {},
   "outputs": [],
   "source": [
    "class Attention(nn.Module):\n",
    "    def __init__(self, args: LMConfig):\n",
    "        super().__init__()\n",
    "\n",
    "        # 先确定n_kv_heads的值，如果设置了单独的n_kv_heads，就执行多头共享机制\n",
    "        # 如果没设置kv_heads，就意味着全部的头都要执行kv缓存，此时n_kv_heads = n_heads\n",
    "        self.n_kv_heads = args.n_heads if args.n_kv_heads is None else args.n_kv_heads\n",
    "\n",
    "        # 检验，n_heads能否被n_kv_heads除尽\n",
    "        assert args.n_heads % self.n_kv_heads == 0\n",
    "\n",
    "        # 设置头数、kv缓存头数和重复次数\n",
    "        self.n_local_heads = args.n_heads\n",
    "        self.n_local_kv_heads = self.n_kv_heads\n",
    "        self.n_rep = self.n_local_heads // self.n_local_kv_heads\n",
    "\n",
    "        # 设置每个头上的特征维度\n",
    "        self.head_dim = args.dim // args.n_heads\n",
    "\n",
    "        # 设置权重层，当 x 的结构为 (seq_len, d_model)时\n",
    "        # 常规的Q、K、V矩阵的结构应该与 X 一致，也是 (seq_len, d_model)\n",
    "        # 因此常规的 w 应该是 (d_model,d_model)结构\n",
    "        # 在多头注意力中，w 应该是 (d_model, d_model/n_heads)\n",
    "        # 在具有kv缓存的情况下，我们是对所有头上的注意力并行计算\n",
    "        # 因此Q的权重应该是(d_model, d_model)\n",
    "        # K和V的权重应该是(d_model, d_model/n_heads * n_kv_heads)\n",
    "        self.wq = nn.Linear(args.dim, args.n_heads * self.head_dim, bias=False)\n",
    "        self.wk = nn.Linear(args.dim, self.n_kv_heads * self.head_dim, bias=False)\n",
    "        self.wv = nn.Linear(args.dim, self.n_kv_heads * self.head_dim, bias=False)\n",
    "\n",
    "        # 输出层上的O的权重不受影响，是(d_model, d_model)\n",
    "        self.wo = nn.Linear(args.n_heads * self.head_dim, args.dim, bias=False)\n",
    "\n",
    "        # 设置kv缓存初始值\n",
    "        self.k_cache, self.v_cache = None, None\n",
    "\n",
    "        # 设置注意力和残差连接上的dropout层和dropout比例\n",
    "        self.attn_dropout = nn.Dropout(args.dropout)\n",
    "        self.resid_dropout = nn.Dropout(args.dropout)\n",
    "        self.dropout = args.dropout\n",
    "\n",
    "        # flash attention\n",
    "        # print(\"WARNING: using slow attention. Flash Attention requires PyTorch >= 2.0\")\n",
    "        self.flash = hasattr(torch.nn.functional, 'scaled_dot_product_attention') and args.flash_attn\n",
    "\n",
    "        # 设置decoder专用前瞻掩码\n",
    "        # 注意，前瞻掩码是用于QK.T矩阵的\n",
    "        mask = torch.full((1, 1, args.max_seq_len, args.max_seq_len), float(\"-inf\"))\n",
    "        mask = torch.triu(mask, diagonal=1)\n",
    "\n",
    "        # buffer用于保存神经网络中除了权重之外、需要被保存的静态数据们\n",
    "        # 比如掩码矩阵、比如位置编码中的频率等等编码表\n",
    "        # \"mask\"我们指定的buffer名称，我们可以通过self.mask来调出掩码矩阵\n",
    "        self.register_buffer(\"mask\", mask, persistent=False)\n",
    "\n",
    "    # 设置旋转位置编码中的频率计算\n",
    "    def _precompute_pos_cis(self, dim: int, max_position = 10000, theta: float = 10000.0):\n",
    "        freqs = 1.0 / (theta ** (torch.arange(0, dim, 2)[: (dim // 2)].float() / dim))\n",
    "        m = torch.arange(max_position, device=freqs.device)\n",
    "        freqs = torch.outer(m, freqs).float()\n",
    "        pos_cis = torch.polar(torch.ones_like(freqs), freqs)\n",
    "        return pos_cis\n",
    "    \n",
    "    def forward(self, x: torch.Tensor, kv_cache=False):\n",
    "\n",
    "        # 作为注意力机制，被输入的x就是原始数据x\n",
    "        # 结构为 (bs, seq_len, d_model)\n",
    "        bsz, seqlen, _ = x.shape\n",
    "\n",
    "        # 无论是否执行KV缓存，Q的求解是不变的\n",
    "        xq = self.wq(x)\n",
    "\n",
    "        # 如果是训练模式下，K和V照常求解\n",
    "        if self.train():\n",
    "            # 将x输入线性层、转换为初始的K和V\n",
    "            # 但是只需要n_kv_heads个头的部分\n",
    "            xk, xv = self.wk(x), self.wv(x)\n",
    "\n",
    "        # 如果是推理模式，且kv_cache设置是打开的\n",
    "        # 那要判断现在是否是初次预测\n",
    "        if kv_cache and self.eval():\n",
    "            # kv缓存是否还是None？已经存在了吗？\n",
    "            if all(cache is not None for cache in (self.k_cache, self.v_cache)):\n",
    "                # 如果不是None，说明不是初次预测了，此时需要的是缓存更新\n",
    "                xk_new_token = self.wk(x[:,-1,:]).unsqueeze(1)\n",
    "                xv_new_token = self.wv(x[:,-1,:]).unsqueeze(1)\n",
    "                xk = torch.cat((self.k_cache, xk_new_token), dim=1)\n",
    "                xv = torch.cat((self.v_cache, xv_new_token), dim=1)\n",
    "            else:\n",
    "                # 如果k和v缓存中有一个为None，说明是初次预测\n",
    "                xk, xv = self.wk(x), self.wv(x)\n",
    "            #生成xk和xv后，把结果保存到缓存中\n",
    "            self.k_cache, self.v_cache = xk, xv\n",
    "\n",
    "        # 为了更省内存，我们要将数据结构重新整理后适应位置编码的结构\n",
    "        # 可以将该流程命名为“多头旋转位置编码”\n",
    "        xq = xq.view(bsz, seqlen, self.n_local_heads, self.head_dim)\n",
    "        xk = xk.view(bsz, seqlen, self.n_local_kv_heads, self.head_dim)\n",
    "        xv = xv.view(bsz, seqlen, self.n_local_kv_heads, self.head_dim)\n",
    "\n",
    "        # 在Q和K上执行旋转位置编码\n",
    "        pos_cis = self._precompute_pos_cis(self.head_dim, seqlen)\n",
    "        xq, xk = apply_rotary_emb(xq, xk, pos_cis)\n",
    "\n",
    "        # 将k矩阵和v矩阵进行重复\n",
    "        xk = repeat_kv(xk, self.n_rep)  # (bs, seqlen, n_local_heads, head_dim)\n",
    "        xv = repeat_kv(xv, self.n_rep)  # (bs, seqlen, n_local_heads, head_dim)\n",
    "\n",
    "        # 矩阵乘法计算注意力分数时，要将n_heads作为第二维度\n",
    "        # 因为实际要进行乘法的应该时 (seqlen, head_dim) 这样的二维表\n",
    "        # transpose交换维度，结构变为(bs, n_local_heads, seqlen, head_dim)\n",
    "        xq = xq.transpose(1, 2)\n",
    "        xk = xk.transpose(1, 2)\n",
    "        xv = xv.transpose(1, 2)\n",
    "\n",
    "        # 如果使用flash attention的话\n",
    "        # 就调用nn.functional下面的点乘注意力计算方法\n",
    "        if self.flash and seqlen != 1:\n",
    "            output = torch.nn.functional.scaled_dot_product_attention(xq, xk, xv\n",
    "                                                                      , attn_mask=None #这里是padding掩码\n",
    "                                                                      , dropout_p=self.dropout if self.training else 0.0\n",
    "                                                                      , is_causal=True #这里是自动化的前瞻掩码\n",
    "                                                                     )\n",
    "        else:\n",
    "            # 不使用flash attention，就自己计算\n",
    "            # 这里的transpose是对最后两个维度的转置\n",
    "            scores = torch.matmul(xq, xk.transpose(2, 3)) / math.sqrt(self.head_dim)\n",
    "            \n",
    "            # 在注意力分数上放上掩码\n",
    "            # 如果有kv缓存的话，现在我们的kv矩阵可能会比掩码矩阵要大了\n",
    "            # 获取缓存的长度\n",
    "            cache_len = self.k_cache.shape[1] if self.k_cache is not None else 0\n",
    "            total_len = cache_len + 1  # 当前总长度，等于历史缓存长度 + 当前序列长度\n",
    "\n",
    "            # 检查是否需要扩展掩码矩阵\n",
    "            if total_len > self.mask.shape[-1]:\n",
    "                # 动态生成新的掩码，大小为 (seq_len + cache_len, seq_len + cache_len)\n",
    "                new_mask = torch.full((1, 1, total_len, total_len), float(\"-inf\")).to(x.device)\n",
    "                new_mask = torch.triu(new_mask, diagonal=1)  # 生成前瞻掩码\n",
    "                self.mask = new_mask  # 更新掩码矩阵\n",
    "            \n",
    "            scores = scores + self.mask[:, :, :seqlen, :seqlen]\n",
    "                \n",
    "            # 对最后一个维度求解softmax\n",
    "            scores = F.softmax(scores.float(), dim=-1).type_as(xq)\n",
    "            scores = self.attn_dropout(scores)\n",
    "            output = torch.matmul(scores, xv)  # (bs, n_local_heads, seqlen, head_dim)\n",
    "\n",
    "        # 最后再将结构转回来，并且将n_heads中的所有信息合并\n",
    "        # contiguous() 用于确保张量在内存中的存储是连续的\n",
    "        # 特别是在经过某些操作（如 transpose）后，这对后续的 view() 等操作至关重要，以避免错误\n",
    "        output = output.transpose(1, 2).contiguous().view(bsz, seqlen, -1)\n",
    "\n",
    "        # 注意力机制的输出\n",
    "        output = self.wo(output)\n",
    "        output = self.resid_dropout(output)\n",
    "        return output"
   ]
  },
  {
   "cell_type": "markdown",
   "id": "26f15ac6-1091-42ab-b600-662b64f3a5db",
   "metadata": {},
   "source": [
    "- 模型验证"
   ]
  },
  {
   "cell_type": "code",
   "execution_count": 220,
   "id": "e9f5b12c-0cec-40f0-a43d-e9a5fc8911f0",
   "metadata": {},
   "outputs": [],
   "source": [
    "import torch\n",
    "import torch.nn as nn\n",
    "\n",
    "# 假定的配置类\n",
    "class LMConfig_:\n",
    "    def __init__(self, n_heads=8, n_kv_heads=2, dim=512, max_seq_len=10000, dropout=0.1, flash_attn=False):\n",
    "        self.n_heads = n_heads  # 注意力头的数量\n",
    "        self.n_kv_heads = n_kv_heads  # KV共享头的数量\n",
    "        self.dim = dim  # 模型的维度\n",
    "        self.max_seq_len = max_seq_len  # 最大序列长度\n",
    "        self.dropout = dropout  # dropout比例\n",
    "        self.flash_attn = flash_attn  # 是否使用flash attention\n",
    "\n",
    "# Attention类的测试实例化\n",
    "args_ = LMConfig_()\n",
    "\n",
    "# 重复kv\n",
    "def repeat_kv(x: torch.Tensor, n_rep: int) -> torch.Tensor:\n",
    "    \"\"\"torch.repeat_interleave(x, dim=2, repeats=n_rep)\"\"\"\n",
    "    bs, slen, n_kv_heads, head_dim = x.shape\n",
    "    if n_rep == 1:\n",
    "        return x\n",
    "    return (\n",
    "        x[:, :, :, None, :]\n",
    "        .expand(bs, slen, n_kv_heads, n_rep, head_dim)\n",
    "        .reshape(bs, slen, n_kv_heads * n_rep, head_dim)\n",
    "    )\n",
    "\n",
    "#将频率用于q、k矩阵\n",
    "def apply_rotary_emb(xq, xk, pos_cis):\n",
    "    def unite_shape(pos_cis, x):\n",
    "        ndim = x.ndim\n",
    "        assert 0 <= 1 < ndim\n",
    "        assert pos_cis.shape == (x.shape[1], x.shape[-1])\n",
    "        shape = [d if i == 1 or i == ndim - 1 else 1 for i, d in enumerate(x.shape)]\n",
    "        return pos_cis.view(*shape)\n",
    "\n",
    "    xq_ = torch.view_as_complex(xq.float().reshape(*xq.shape[:-1], -1, 2))\n",
    "    xk_ = torch.view_as_complex(xk.float().reshape(*xk.shape[:-1], -1, 2))\n",
    "    pos_cis = unite_shape(pos_cis, xq_)\n",
    "    xq_out = torch.view_as_real(xq_ * pos_cis).flatten(3)\n",
    "    xk_out = torch.view_as_real(xk_ * pos_cis).flatten(3)\n",
    "    return xq_out.type_as(xq), xk_out.type_as(xk)"
   ]
  },
  {
   "cell_type": "code",
   "execution_count": 221,
   "id": "59be57cf-34f1-4526-8bc3-d5d91fc82c18",
   "metadata": {},
   "outputs": [],
   "source": [
    "# 创建假设输入\n",
    "x = torch.randn(2, 10, 512)  # (batch_size=2, seq_len=10, dim=512)\n",
    "pos_cis = precompute_pos_cis(dim=64, max_position = 10, theta=10000)"
   ]
  },
  {
   "cell_type": "code",
   "execution_count": 222,
   "id": "f4ba42ae-f7ce-41f5-aa30-6d077f0e4bda",
   "metadata": {},
   "outputs": [
    {
     "data": {
      "text/plain": [
       "torch.Size([2, 10, 512])"
      ]
     },
     "execution_count": 222,
     "metadata": {},
     "output_type": "execute_result"
    }
   ],
   "source": [
    "# 创建Attention实例\n",
    "attention = Attention(args_)\n",
    "\n",
    "# 前向传播\n",
    "output = attention(x,kv_cache=True)\n",
    "output.shape"
   ]
  },
  {
   "cell_type": "markdown",
   "id": "d7c400a7-d46d-44fa-8a6a-0d8532c034ce",
   "metadata": {},
   "source": [
    "- **验证是否开启kv缓存会带来的运算速度变化**"
   ]
  },
  {
   "cell_type": "code",
   "execution_count": 223,
   "id": "fe1f1a56-b318-489a-b738-c0321207a418",
   "metadata": {},
   "outputs": [],
   "source": [
    "import time\n",
    "\n",
    "# 定义计时函数\n",
    "def measure_inference_time(attention, x, kv_cache):\n",
    "    start_time = time.time()\n",
    "    output = attention(x, kv_cache=kv_cache)\n",
    "    end_time = time.time()\n",
    "    return end_time - start_time"
   ]
  },
  {
   "cell_type": "code",
   "execution_count": 224,
   "id": "2cf83370-376f-4cec-9fff-324c8f3a24b5",
   "metadata": {},
   "outputs": [
    {
     "name": "stdout",
     "output_type": "stream",
     "text": [
      "推理时间（关闭kv_cache）: 0.006324 秒\n"
     ]
    }
   ],
   "source": [
    "# 创建假设输入\n",
    "x = torch.randn(2, 100, 512)  # (batch_size=2, seq_len=100, dim=512)\n",
    "head_dim = int(512/8)\n",
    "\n",
    "# 创建Attention实例\n",
    "attention = Attention(args_)\n",
    "\n",
    "# 测试关闭kv_cache的推理时间\n",
    "time_without_cache = measure_inference_time(attention, x, kv_cache=False)\n",
    "print(f\"推理时间（关闭kv_cache）: {time_without_cache:.6f} 秒\")"
   ]
  },
  {
   "cell_type": "code",
   "execution_count": 226,
   "id": "7e91b02f-3f39-4f52-9331-9386a7bc63f0",
   "metadata": {},
   "outputs": [
    {
     "name": "stdout",
     "output_type": "stream",
     "text": [
      "推理时间（开启kv_cache）: 78.550040 秒\n"
     ]
    }
   ],
   "source": [
    "# 模拟逐步生成的推理输入（关闭kv_cache）\n",
    "x = torch.randn(2, 200, 512)\n",
    "x_new_token = torch.randn(2, 1, 512)  # 模拟单个新生成的token\n",
    "attention.k_cache = None  # 清空KV缓存\n",
    "head_dim = int(512/8)\n",
    "\n",
    "# 运行并计时\n",
    "time_with_cache = 0.0\n",
    "for i in range(1000):  # 模拟生成1000个token的过程\n",
    "    x = torch.cat((x, x_new_token), dim=1)\n",
    "    time_with_cache += measure_inference_time(attention, x, kv_cache=False)\n",
    "\n",
    "print(f\"推理时间（开启kv_cache）: {time_with_cache:.6f} 秒\")"
   ]
  },
  {
   "cell_type": "code",
   "execution_count": 227,
   "id": "a9134241-0315-4751-93c4-87524805cac2",
   "metadata": {},
   "outputs": [
    {
     "name": "stdout",
     "output_type": "stream",
     "text": [
      "推理时间（开启kv_cache）: 58.885653 秒\n"
     ]
    }
   ],
   "source": [
    "# 模拟逐步生成的推理输入（开启kv_cache）\n",
    "x = torch.randn(2, 200, 512)\n",
    "x_new_token = torch.randn(2, 1, 512)  # 模拟单个新生成的token\n",
    "attention.k_cache = None  # 清空KV缓存\n",
    "head_dim = int(512/8)\n",
    "\n",
    "# 运行并计时\n",
    "time_with_cache = 0.0\n",
    "for i in range(1000):  # 模拟生成100个token的过程\n",
    "    x = torch.cat((x, x_new_token), dim=1)\n",
    "    time_with_cache += measure_inference_time(attention, x, kv_cache=True)\n",
    "\n",
    "print(f\"推理时间（开启kv_cache）: {time_with_cache:.6f} 秒\")"
   ]
  },
  {
   "cell_type": "markdown",
   "id": "f66d6981-74a3-47e7-af77-ec91a3fac6ed",
   "metadata": {},
   "source": [
    "## 5. 门控前馈神经网络FFN with SwiGLU"
   ]
  },
  {
   "cell_type": "markdown",
   "id": "5ea1f833-f4d6-49c8-a1d9-9b1da7e2c622",
   "metadata": {},
   "source": [
    "与常见的前馈神经网络相比，Llama中的前馈神经网络有一些独特的设计。"
   ]
  },
  {
   "cell_type": "markdown",
   "id": "0e79024d-b295-4cc4-881a-01ae0e8748a1",
   "metadata": {},
   "source": [
    "![](https://skojiangdoc.oss-cn-beijing.aliyuncs.com/2024LLM/15.png)"
   ]
  },
  {
   "attachments": {},
   "cell_type": "markdown",
   "id": "091e740f-50a8-434b-97c5-51426f20bc78",
   "metadata": {},
   "source": [
    "> **典型前馈网络**：\n",
    "$$\n",
    "  \\text{Output} = \\text{Linear2}(\\text{Activation}(\\text{Linear1}(x)))\n",
    "$$\n",
    "  它通过一个线性层（`Linear1`），一个非线性激活函数（如ReLU或GELU），然后通过另一个线性层（`Linear2`）。\n",
    "\n",
    "> **llama中的前馈神经网络**\n",
    "$$\n",
    "\\text{Output} = \\text{Linear2}\n",
    "\\left( \\textcolor{red}{\\text{Activation}}\\left( \\textcolor{green}{\\text{Linear1}}(x) \\right) \n",
    "\\odot \\textcolor{gold}{\\text{Linear3}}(x) \\right)\n",
    "$$\n",
    "  它通过两个线性层（`Linear1`和`Linear3`），从`Linear1`输出的结果经过silu激活函数后，与`Linear3`输出的结果进行逐元素乘法，然后通过另一个线性层（`Linear2`）。"
   ]
  },
  {
   "cell_type": "markdown",
   "id": "4f4f2be7-0329-42a3-9f45-0bf3b76cac97",
   "metadata": {},
   "source": [
    "为什么llama要做这样的修改呢？为了要了解这个前馈网络的机制，我们先要了解一下SwiGLU激活函数。\n",
    "\n",
    "- **SwiGLU（Switch-Gated Linear Unit）门控线性单元激活函数**\n",
    "\n",
    "**SwiGLU** 是一种新型的激活函数，由 **Shazeer (2020)** 在论文 *“Gated Linear Units for Efficient and Scalable Deep Learning”* 中提出。它被用在 **深度学习模型的前馈神经网络（FFN）层**中，如 **LLaMA**、**GPT-3** 和其他大型 Transformer 模型中。SwiGLU 的设计核心是基于**门控机制（gating mechanism）**，它通过引入两个线性路径的输出，并结合逐元素乘法，实现了对信息的动态控制。这种门控结构类似于在 LSTM 和 GRU 等门控循环网络中的思想，但它被应用在 Transformer 的前馈网络（FFN）层中，用于增强网络的非线性表达能力和训练效率。\n",
    "\n",
    "SwiGLU 激活函数的基本形式如下：\n",
    "\n",
    "$$\n",
    "\\text{SwiGLU}(x) = \\textcolor{red}{\\text{GELU}}\\left( \\textcolor{green}{W_1^a} \\cdot x \\right) \n",
    "\\odot \\textcolor{gold}{W_1^b} \\cdot x\n",
    "$$\n",
    "\n",
    "其中：\n",
    "- $W_1^a$ 和 $W_1^b$ 是线性变换（全连接层）。\n",
    "- $\\odot$ 表示 **逐元素乘法**（element-wise multiplication）。\n",
    "- **GELU**（Gaussian Error Linear Unit）是一个非线性激活函数，它与ReLU激活函数类似，但它比 ReLU 更平滑，适用于深度模型。"
   ]
  },
  {
   "cell_type": "markdown",
   "id": "f3e4c870-3189-4cfe-9741-19f9b34fb436",
   "metadata": {},
   "source": [
    "| **特性**           | **ReLU**                        | **GELU**                      | **SwiGLU with GELU**                    |\n",
    "|--------------------|---------------------------------|--------------------------------|--------------------------------|\n",
    "| **表达能力**       | 线性激活，易丢失负值信息         | 平滑激活，但无门控机制         | 动态门控，表达能力最强         |\n",
    "| **梯度流动**       | 负值梯度为 0，可能导致死神经元   | 平滑梯度流动                   | 更平滑的梯度流动，训练更稳定   |\n",
    "| **训练效率**       | 计算简单，但可能不稳定           | 计算稍复杂，但效果更好         | 高效计算，适合大规模模型       |"
   ]
  },
  {
   "cell_type": "code",
   "execution_count": 18,
   "id": "69990dc5-c5e9-4745-b275-1b464a899d43",
   "metadata": {
    "jupyter": {
     "source_hidden": true
    }
   },
   "outputs": [
    {
     "data": {
      "image/png": "[encoded data removed]",
      "text/plain": [
       "<Figure size 1080x1080 with 6 Axes>"
      ]
     },
     "metadata": {
      "needs_background": "light"
     },
     "output_type": "display_data"
    }
   ],
   "source": [
    "import numpy as np\n",
    "import matplotlib.pyplot as plt\n",
    "\n",
    "# 定义 ReLU 激活函数及其梯度\n",
    "def relu(x):\n",
    "    return np.maximum(0, x)\n",
    "\n",
    "def relu_derivative(x):\n",
    "    return np.where(x > 0, 1, 0)\n",
    "\n",
    "# 定义 GELU 激活函数及其梯度\n",
    "def gelu(x):\n",
    "    return 0.5 * x * (1 + np.tanh(np.sqrt(2 / np.pi) * (x + 0.044715 * x**3)))\n",
    "\n",
    "def gelu_derivative(x):\n",
    "    tanh_term = np.tanh(np.sqrt(2 / np.pi) * (x + 0.044715 * x**3))\n",
    "    sech2_term = 1 - tanh_term ** 2  # tanh 导数\n",
    "    return 0.5 * (1 + tanh_term + np.sqrt(2 / np.pi) * x * (1 + 3 * 0.044715 * x**2) * sech2_term)\n",
    "\n",
    "# 定义 SwiGLU 激活函数及其梯度\n",
    "def swiglu(x, W1a=1.0, W1b=1.0):\n",
    "    return gelu(W1a * x) * (W1b * x)\n",
    "\n",
    "def swiglu_derivative(x, W1a=1.0, W1b=1.0):\n",
    "    gelu_grad = gelu_derivative(W1a * x) * W1a\n",
    "    return gelu_grad * (W1b * x) + gelu(W1a * x) * W1b\n",
    "\n",
    "# 创建输入数据\n",
    "x = np.linspace(-6, 6, 400)\n",
    "\n",
    "# 计算所有函数及其梯度\n",
    "y_relu, y_relu_grad = relu(x), relu_derivative(x)\n",
    "y_gelu, y_gelu_grad = gelu(x), gelu_derivative(x)\n",
    "y_swiglu, y_swiglu_grad = swiglu(x), swiglu_derivative(x)\n",
    "\n",
    "# 绘制 3x2 图像布局\n",
    "fig, axes = plt.subplots(3, 2, figsize=(15, 15))\n",
    "\n",
    "# ReLU 激活函数和梯度\n",
    "axes[0, 0].plot(x, y_relu, color='b', label='ReLU')\n",
    "axes[0, 0].set_title('ReLU Activation',size=20)\n",
    "axes[0, 0].grid(True)\n",
    "axes[0, 1].plot(x, y_relu_grad, color='r', label='ReLU Gradient')\n",
    "axes[0, 1].set_title('ReLU Gradient',size=20)\n",
    "axes[0, 1].grid(True)\n",
    "\n",
    "# GELU 激活函数和梯度\n",
    "axes[1, 0].plot(x, y_gelu, color='b', label='GELU')\n",
    "axes[1, 0].set_title('GELU Activation',size=20)\n",
    "axes[1, 0].grid(True)\n",
    "axes[1, 1].plot(x, y_gelu_grad, color='r', label='GELU Gradient')\n",
    "axes[1, 1].set_title('GELU Gradient',size=20)\n",
    "axes[1, 1].grid(True)\n",
    "\n",
    "# SwiGLU 激活函数和梯度\n",
    "axes[2, 0].plot(x, y_swiglu, color='b', label='SwiGLU')\n",
    "axes[2, 0].set_title('SwiGLU Activation',size=20)\n",
    "axes[2, 0].grid(True)\n",
    "axes[2, 1].plot(x, y_swiglu_grad, color='r', label='SwiGLU Gradient')\n",
    "axes[2, 1].set_title('SwiGLU Gradient',size=20)\n",
    "axes[2, 1].grid(True)\n",
    "\n",
    "plt.tight_layout()\n",
    "plt.show()"
   ]
  },
  {
   "cell_type": "markdown",
   "id": "1443ebbb-1555-4894-a0a0-edc7136836a0",
   "metadata": {},
   "source": [
    "- <font color=\"red\">**门控机制为什么高效**？"
   ]
  },
  {
   "cell_type": "markdown",
   "id": "27011963-9891-416f-90c4-5a28732764d7",
   "metadata": {},
   "source": [
    "门控机制（Gating Mechanism）是深度学习中的一种重要设计，它通过动态选择信息流，提升模型的表达能力和训练效率。相比于单纯的线性变换和激活函数，门控机制更灵活，使模型能够根据输入数据的特性决定哪些信息需要传递、哪些信息需要抑制。\n",
    "\n",
    "| **优势**                   | **解释**                                              |\n",
    "|----------------------------|-------------------------------------------------------|\n",
    "| **避免冗余计算**           | 只让有用的信息通过，抑制无关信息，提升计算效率。       |\n",
    "| **强化非线性表达能力**     | 通过多条路径组合增强模型的表达能力。                   |\n",
    "| **改善梯度流动**           | 减少梯度消失问题，提高深层网络的训练效率。             |\n",
    "| **自适应学习能力**         | 根据不同输入动态选择信息流，提高任务适应性。            |\n",
    "| **多任务场景中的共享能力** | 在多任务或多模态模型中更智能地控制信息流动路径。         |\n",
    "\n",
    "**总结**：门控机制通过**逐元素乘法和动态调控**，使模型能够高效选择性地传递信息，避免了简单线性流程中的冗余计算和信息丢失问题。相比于传统的线性层，门控机制不仅**提高了计算效率**，还增强了模型的**非线性表达能力**和**训练稳定性**，使其在 NLP 和计算机视觉等复杂任务中表现更加优异。"
   ]
  },
  {
   "cell_type": "markdown",
   "id": "303b6b12-d5a5-4d2c-a3ca-96b1b7b228e3",
   "metadata": {},
   "source": [
    "这一函数非常好地展现了门控机制的精髓！受到SwiGLU激活函数的思路影响，LLaMA重新设计了前馈神经网络架构，为原本嵌套的线性层加入了“门控”的逻辑，并且结合了这种逻辑的前馈网络称之为**FFN with SwiGLU**，我将之译为门控前馈神经网络。\n",
    "\n",
    "<center><img src=\"https://skojiangdoc.oss-cn-beijing.aliyuncs.com/2024LLM/06.png\" alt=\"描述文字\" width=\"400\">"
   ]
  },
  {
   "cell_type": "markdown",
   "id": "ce3f6054-950c-4f1e-96cd-a6d4b7925f73",
   "metadata": {
    "jp-MarkdownHeadingCollapsed": true
   },
   "source": [
    "不过，在实际实现LLaMA架构的时候，LLaMA官方却没有用广受好评的GELU函数，而是使用了SILU激活函数。**SiLU** 是一种平滑的非线性激活函数，全称为 **Sigmoid-Weighted Linear Unit**。它是由 **Sigmoid 函数**与输入的乘积构成的激活函数，具有较好的梯度流动特性，常用于深度神经网络的激活层中。**SiLU** 在许多深度学习任务中表现优于传统的激活函数（如 ReLU），并且已经被应用在 **Transformer** 等现代架构中（例如，EfficientNet 以及一些 NLP 模型）。\n",
    "\n",
    "$$\n",
    "\\text{SiLU}(x) = x \\cdot \\sigma(x)\n",
    "$$\n",
    "\n",
    "其中：\n",
    "- $x$ 是输入值。\n",
    "- $\\sigma(x)$ 是 **Sigmoid** 函数：\n",
    "  $$\n",
    "  \\sigma(x) = \\frac{1}{1 + e^{-x}}\n",
    "  $$\n",
    "\n",
    "SiLU 的输出是输入 $x$ 和 Sigmoid 函数 $\\sigma(x)$ 的逐元素乘积。\n",
    "\n",
    "**SiLU 的导数（梯度）计算如下**：\n",
    "\n",
    "$$\n",
    "\\frac{d}{dx} \\text{SiLU}(x) = \\sigma(x) + x \\cdot \\sigma(x) \\cdot (1 - \\sigma(x))\n",
    "$$\n",
    "\n",
    "其函数图像与梯度图像如下👇"
   ]
  },
  {
   "cell_type": "code",
   "execution_count": 10,
   "id": "573a9945-4f52-4283-8081-08b0ff617e5e",
   "metadata": {
    "jupyter": {
     "source_hidden": true
    }
   },
   "outputs": [
    {
     "data": {
      "image/png": "[encoded data removed]",
      "text/plain": [
       "<Figure size 864x360 with 2 Axes>"
      ]
     },
     "metadata": {
      "needs_background": "light"
     },
     "output_type": "display_data"
    }
   ],
   "source": [
    "import numpy as np\n",
    "import matplotlib.pyplot as plt\n",
    "\n",
    "# 定义 SiLU 激活函数及其梯度\n",
    "def silu(x):\n",
    "    return x * (1 / (1 + np.exp(-x)))  # SiLU = x * sigmoid(x)\n",
    "\n",
    "def silu_derivative(x):\n",
    "    sigmoid_x = 1 / (1 + np.exp(-x))\n",
    "    return sigmoid_x * (1 + x * (1 - sigmoid_x))  # d(SiLU)/dx\n",
    "\n",
    "# 创建输入数据\n",
    "x = np.linspace(-6, 6, 400)\n",
    "\n",
    "# 计算 SiLU 和其梯度\n",
    "y_silu = silu(x)\n",
    "y_silu_grad = silu_derivative(x)\n",
    "\n",
    "# 绘制 SiLU 激活函数及其梯度\n",
    "plt.figure(figsize=(12, 5))\n",
    "\n",
    "# SiLU 激活函数图像\n",
    "plt.subplot(1, 2, 1)\n",
    "plt.plot(x, y_silu, label='SiLU', color='b')\n",
    "plt.title('SiLU Activation Function')\n",
    "plt.xlabel('x')\n",
    "plt.ylabel('SiLU(x)')\n",
    "plt.grid(True)\n",
    "plt.legend()\n",
    "\n",
    "# SiLU 梯度图像\n",
    "plt.subplot(1, 2, 2)\n",
    "plt.plot(x, y_silu_grad, label='Gradient of SiLU', color='r')\n",
    "plt.title('Gradient of SiLU Function')\n",
    "plt.xlabel('x')\n",
    "plt.ylabel('d(SiLU)/dx')\n",
    "plt.grid(True)\n",
    "plt.legend()\n",
    "\n",
    "plt.show()"
   ]
  },
  {
   "cell_type": "markdown",
   "id": "333d4def-095a-4603-a171-d9c560aa949b",
   "metadata": {
    "jp-MarkdownHeadingCollapsed": true
   },
   "source": [
    "这样的结构被发现非常适应深度神经网络、尤其是Transformer结构，总结一下SiLU激活函数有如下的优点👇\n",
    "\n",
    "1. **更好的梯度流动**：SiLU 在负值区域不会完全输出 0，因此减少了梯度消失和死神经元问题。\n",
    "<br><br>\n",
    "2. **平滑激活**：由于 SiLU 是平滑的，它在训练过程中提供了更平稳的梯度更新，使模型更容易收敛。\n",
    "<br><br>\n",
    "3. **自适应线性和非线性**：对于较大的正值输入，SiLU 的输出接近于线性；而对较小的负值输入，它会进行压缩处理。这种自适应特性增强了模型对复杂模式的捕捉能力。\n",
    "<br><br>\n",
    "4. **计算效率高**：SiLU 的计算复杂度适中，且在现代 GPU/TPU 上的计算效率非常高。"
   ]
  },
  {
   "cell_type": "markdown",
   "id": "af4bb25d-5b7b-4b03-ac76-f911f5e218be",
   "metadata": {},
   "source": [
    "| **特性**        | **ReLU**                       | **GELU**                     | **SiLU**                      |\n",
    "|-----------------|--------------------------------|------------------------------|-------------------------------|\n",
    "| **平滑性**      | 不平滑                         | 平滑                         | 平滑                          |\n",
    "| **负值处理**    | 输出 0                         | 有负值输出                    | 更加平滑的负值输出                    |\n",
    "| **梯度流动**    | 负值区域无梯度                 | 平滑梯度流动                 | 全范围平滑梯度流动            |\n",
    "| **表达能力**    | 适中                           | 强                           | 强，且自适应线性/非线性       |\n",
    "| **计算复杂度**  | 低                             | 较高                         | 适中                          |\n"
   ]
  },
  {
   "cell_type": "markdown",
   "id": "dc542c64-5558-4446-bd89-d4f678caa5bd",
   "metadata": {},
   "source": [
    "因此在LLaMA的前馈神经网络中我们实现的实际上是——"
   ]
  },
  {
   "cell_type": "markdown",
   "id": "df9dbd85-e990-4ce1-a68a-26580ed539fe",
   "metadata": {},
   "source": [
    "> **SwiGLU with Silu**\n",
    "$$\n",
    "\\text{Output} = \\text{Linear2}\n",
    "\\left( \\textcolor{red}{\\text{Silu}}\\left( \\textcolor{green}{\\text{Linear1}}(x) \\right) \n",
    "\\odot \\textcolor{gold}{\\text{Linear3}}(x) \\right)\n",
    "$$"
   ]
  },
  {
   "cell_type": "code",
   "execution_count": 53,
   "id": "73721f8c-9fdf-4d75-a49d-8a1c3265aa5e",
   "metadata": {},
   "outputs": [],
   "source": [
    "class FeedForward(nn.Module):\n",
    "    def __init__(self, dim: int, hidden_dim: int, multiple_of: int, dropout: float):\n",
    "        super().__init__()\n",
    "        if hidden_dim is None:\n",
    "            hidden_dim = 4 * dim\n",
    "            hidden_dim = int(2 * hidden_dim / 3)\n",
    "            hidden_dim = multiple_of * ((hidden_dim + multiple_of - 1) // multiple_of)\n",
    "        self.w1 = nn.Linear(dim, hidden_dim, bias=False)\n",
    "        self.w2 = nn.Linear(hidden_dim, dim, bias=False)\n",
    "        self.w3 = nn.Linear(dim, hidden_dim, bias=False)\n",
    "        self.dropout = nn.Dropout(dropout)\n",
    "\n",
    "    def forward(self, x):\n",
    "        return self.dropout(self.w2(F.silu(self.w1(x)) * self.w3(x)))"
   ]
  },
  {
   "cell_type": "markdown",
   "id": "d6113bc2-c585-45f6-8903-c55a56a8b4ae",
   "metadata": {},
   "source": [
    "- hidden_dim的系列计算是什么？"
   ]
  },
  {
   "cell_type": "markdown",
   "id": "49179691-34cd-438c-ace0-a647eb967e19",
   "metadata": {},
   "source": [
    "```python\n",
    "if hidden_dim is None:\n",
    "    hidden_dim = 4 * dim  # Step 1: 设置初始值，通常为输入维度的 4 倍\n",
    "    hidden_dim = int(2 * hidden_dim / 3)  # Step 2: 缩减到 2/3 的大小\n",
    "    hidden_dim = multiple_of * ((hidden_dim + multiple_of - 1) // multiple_of)  # Step 3: 对齐 multiple_of\n",
    "```\n",
    "\n",
    "这三步的设置逻辑如下：\n",
    "1. **Step 1**：`hidden_dim = 4 * dim`  \n",
    "> 这是常见的做法，类似于 **Transformer** 的前馈网络中使用的隐藏维度。将隐藏层设为输入维度的 4 倍，可以增强网络的非线性表达能力。"
   ]
  },
  {
   "cell_type": "markdown",
   "id": "3e7127e8-8221-4b5b-9e3f-0069d2811f4e",
   "metadata": {},
   "source": [
    "2. **Step 2**：`hidden_dim = int(2 * hidden_dim / 3)` \n",
    "> 这里缩小了隐藏维度，将其减少到 **原值的 2/3**。这一步背后的原因通常是为了**平衡计算开销和模型容量**。隐藏层的维度直接决定了模型的参数量和计算开销。如果按照传统做法设置为 **4 倍的输入维度**，模型可能在某些任务中变得过大，训练和推理的时间复杂度较高。缩减到 2/3，可以**减少 1/3 的参数量**和计算成本，这对于大模型或资源受限的设备非常重要。在一些现代 Transformer 模型（例如 LLaMA）中，缩减隐藏层维度是一种经验优化。研究表明，减少隐藏维度（例如从 $4 \\cdot d$ 缩减到 $\\frac{8}{3} \\cdot d$）往往能在**模型性能和效率之间取得良好平衡**。"
   ]
  },
  {
   "cell_type": "markdown",
   "id": "91a30619-eab4-420f-a2c2-dfa4c7ca1598",
   "metadata": {},
   "source": [
    "3. **Step 3**：`hidden_dim = multiple_of * ((hidden_dim + multiple_of - 1) // multiple_of)`  \n",
    "> 这一步确保隐藏维度是 **multiple_of** 的倍数，以优化 GPU 计算效率。"
   ]
  },
  {
   "cell_type": "markdown",
   "id": "c5205713-0df3-4b17-b72c-98fdd42a803f",
   "metadata": {},
   "source": [
    "- multiple_of是什么？"
   ]
  },
  {
   "cell_type": "markdown",
   "id": "a90e965a-b54b-41b1-a2c2-8726a7470898",
   "metadata": {},
   "source": [
    "在FFN实际实现的过程中，multiple_of是我们用来控制hidden_dim大小的关键参数，它代表“你想要让你的hidden_dim能整除某个数吗？”"
   ]
  },
  {
   "cell_type": "code",
   "execution_count": 28,
   "id": "5e030883-c632-4629-947c-0e1cf8a73675",
   "metadata": {},
   "outputs": [
    {
     "data": {
      "text/plain": [
       "1365"
      ]
     },
     "execution_count": 28,
     "metadata": {},
     "output_type": "execute_result"
    }
   ],
   "source": [
    "int(2* (4 * 512) / 3)"
   ]
  },
  {
   "cell_type": "code",
   "execution_count": 32,
   "id": "ab11c3db-3a62-4d02-9e90-718b18fb0087",
   "metadata": {},
   "outputs": [],
   "source": [
    "multiple_of = 4"
   ]
  },
  {
   "cell_type": "code",
   "execution_count": 33,
   "id": "4b9d8597-e925-444c-a408-ffe132b8850b",
   "metadata": {},
   "outputs": [
    {
     "data": {
      "text/plain": [
       "1368"
      ]
     },
     "execution_count": 33,
     "metadata": {},
     "output_type": "execute_result"
    }
   ],
   "source": [
    "multiple_of * ((1365 + multiple_of-1) // multiple_of)"
   ]
  },
  {
   "cell_type": "code",
   "execution_count": 31,
   "id": "ada2bd85-730d-447f-a63e-67f417fbf6ae",
   "metadata": {},
   "outputs": [
    {
     "data": {
      "text/plain": [
       "342"
      ]
     },
     "execution_count": 31,
     "metadata": {},
     "output_type": "execute_result"
    }
   ],
   "source": [
    "1368//4"
   ]
  },
  {
   "cell_type": "markdown",
   "id": "3baf37a7-6a49-49ee-8ae4-49cd59b615d4",
   "metadata": {},
   "source": [
    "## 7. 混合专家网络用于FFN层"
   ]
  },
  {
   "cell_type": "markdown",
   "id": "7b319d40-082e-426f-978f-d438ea7f9251",
   "metadata": {},
   "source": [
    "还记得门控机制是如何操作的吗？当我们在SwiGLU激活函数中，使用一个线性层的输出结果来乘以另一个线性层的结果时，我们把其中一个线性层看作携带信息的层，把另一个线性层看作“门控机制”，以此来压缩数据的通路、逼迫模型筛选出更精准、更重要的信息。\n",
    "\n",
    "$$\n",
    "\\text{SwiGLU}(x) = \\textcolor{red}{\\text{GELU}}\\left( \\textcolor{green}{W_1^a} \\cdot x \\right) \n",
    "\\odot \\textcolor{gold}{W_1^b} \\cdot x\n",
    "$$\n",
    "\n",
    "从门控机制出发我们可以设想，**如果我们不止一扇门呢？这是否意味着我们可以拥有动态的筛选策略？是否意味着我们可以同时筛选出不同、但都非常重要和精准的信息**？就如同卷积神经网络利用不同的卷积核解读不同的信息、注意力机制用不同的头来解读不同的信息一样，门控机制中我们也可以有不同的门来用不同的方式筛选信息，**混合专家模型**因此而诞生，让我们来看看混合专家模型——"
   ]
  },
  {
   "cell_type": "markdown",
   "id": "a7aa5528-ccd1-4c00-91a1-f12aa7b8cd48",
   "metadata": {},
   "source": [
    "<center><img src=\"https://skojiangdoc.oss-cn-beijing.aliyuncs.com/2024LLM/16.png\" alt=\"描述文字\" width=\"400\">\n",
    "\n",
    "当我们使用多个门同时控制信息的流通时，这些多个门构成的结构被称为是**路由器**。如图所示，**混合专家模型 (MoE)** 是一种**动态路由**策略，通过为不同的输入选择不同的子模型（专家模型）进行计算。相比于传统的全连接前馈网络（FFN），MoE 在每次前向传播时只激活部分专家模型，从而实现**参数高效**和**计算高效**。动态路由策略是一种在深度学习模型中使用的技术，其核心思想是：根据输入数据的特征动态地选择路径或专家模型来处理信息。与传统模型固定的前向传播路径不同，动态路由策略在每次前向传播时，根据输入的情况选择最合适的子网络、路径或专家来处理数据。这大幅提升了模型的灵活性、计算效率和泛化能力。\n",
    "\n",
    "MoE 已经广泛应用于大规模自然语言处理模型（如 GShard、Switch Transformer 等），并在计算机视觉等领域表现出色。其核心优势在于：**模型具有超大参数量**，但每次推理或训练时，只使用部分参数来进行计算。"
   ]
  },
  {
   "cell_type": "markdown",
   "id": "d389f2aa-a040-4d61-b05a-7ea6fa37efb5",
   "metadata": {},
   "source": [
    "- **MoE 的核心公式：**\n",
    "$$\n",
    "\\text{Output} = \\sum_{i=1}^N G_i(x) \\cdot E_i(x)\n",
    "$$\n",
    "> - **$E_i(x)$**：第 $i$ 个专家模型的输出。\n",
    "> - **$G_i(x)$**：由路由器（Gate）计算得到的权重，决定哪些专家应该被激活、每个专家被激活的程度有多大。\n",
    "> - **N**：专家模型的总数。通常来说，我们不会采用全部的专家的结果，而是采用权重最大的top-k个专家的结果，因此在实际计算时，N往往会被k所替代。"
   ]
  },
  {
   "cell_type": "markdown",
   "id": "8e647e6c-b8bd-4722-b65a-469250c1370b",
   "metadata": {},
   "source": [
    "- **主要组件：**\n",
    "> 1. **专家模型（Experts）**：多个全连接层或其他子模型，每个专家处理输入的不同部分或模式。\n",
    "> 2. **路由器（Router/Gate）**：为每个输入选择合适的专家（可以是一个或多个），并为每个被选中的专家分配权重。\n",
    "> 3. **Sparse Activation**：每次计算时，只激活少数几个专家，大幅减少计算开销。在实际计算中，路由器（Gate）不会为所有专家分配非零权重，而是选择Top-k 个权重最高的专家激活。未被激活的专家（即 Top-k 之外的专家）的输出将不会参与计算，它们的权重$G_i(x)$会是0。"
   ]
  },
  {
   "cell_type": "markdown",
   "id": "ab458f66-6622-4bea-ae49-39b24ef35e86",
   "metadata": {},
   "source": [
    "<font color=\"red\">**关键问题1：MoE与Transformer架构或LLaMA架构有什么关系？**"
   ]
  },
  {
   "cell_type": "markdown",
   "id": "6bb0d12a-9077-4510-b381-fbf99b1fa673",
   "metadata": {},
   "source": [
    "MoE作为很好的输出模型，可以用于代替**Transformer**中的**前馈网络（FFN）层**。\n",
    "> **提高模型的表达能力**\n",
    "> - 在传统 FFN 中，每一层使用相同的参数处理所有输入。这限制了模型的表达能力。\n",
    "> - 在 MoE 中，不同的专家网络可以学习**不同的模式**，每次处理输入时，动态选择不同的专家来增强模型的灵活性。\n",
    "\n",
    "> **参数量高，但计算量低**\n",
    "> - 使用 MoE 后，模型的总参数量增加，但每次前向传播时，只激活**部分专家**，因此**计算量并不会线性增加**。\n",
    "> - 例如：在 Switch Transformer 中，即使模型拥有 **1.6 万亿参数**，每次推理时只使用不到 1% 的参数。\n",
    "\n",
    "> **增强泛化能力**\n",
    "> - 每个专家专注于学习特定模式，有助于减少模型的**过拟合**，提高模型的泛化能力。\n",
    "\n",
    "> **更有效的计算资源利用**\n",
    "> - 大规模模型训练中，计算资源常常成为瓶颈。MoE 通过**稀疏激活**，让 GPU 或 TPU 只计算少量的专家模型，减少内存占用和计算负担。"
   ]
  },
  {
   "cell_type": "markdown",
   "id": "2589d25c-adba-474d-991c-6e1372fe9163",
   "metadata": {},
   "source": [
    "<font color=\"red\">**关键问题2：MoE替代FFN层后，MoE具体如何训练？**"
   ]
  },
  {
   "cell_type": "markdown",
   "id": "cf2a2d75-b44c-4010-ac2c-1069519ac55c",
   "metadata": {},
   "source": [
    "在训练时，模型需要不断调整**所有专家的参数**，并保证路由器能够学会为不同输入选择合适的专家。因此，训练过程比推理要复杂得多，需要更多的计算资源和优化。\n",
    "\n",
    "> **MoE的训练流程**"
   ]
  },
  {
   "cell_type": "markdown",
   "id": "ebe70307-0b7e-429f-af06-da9f7ae2e68a",
   "metadata": {},
   "source": [
    "1. **输入数据准备**：输入数据通过模型的编码层或其他层，产生**隐状态 (hidden states)**，作为路由器和专家模型的输入。<br><br>\n",
    "\n",
    "2. **路由器（Gate）计算权重**：路由器根据输入数据，计算每个专家的**激活权重**。使用 **softmax** 或其他激活函数计算每个专家的得分（`G_i(x)`），然后通过 **top-k** 筛选出权重最大的专家。<br><br>\n",
    "\n",
    "3. **选择 Top-k 专家**：使用 `torch.topk()` 函数，选择 **top-k** 个得分最高的专家。只有这 **k** 个专家参与向前传播的计算，其他专家的输出会被忽略（权重为 0）。<br><br>\n",
    "\n",
    "4. **专家计算输出**：被选中的 **Top-k** 专家根据输入数据计算它们的输出。路由器的权重用于对这些输出进行**加权求和**。<br><br>\n",
    "\n",
    "5. **损失计算与辅助损失（Auxiliary Loss）**：除了常规损失（如交叉熵），还引入**辅助损失**，确保所有专家都能被均衡使用，避免某些专家“过度使用”或“闲置”。<br><br>\n",
    "\n",
    "6. **反向传播与参数更新**：使用反向传播更新所有专家的参数，以及路由器的参数。即使某些专家在当前 batch 中未被激活，它们的参数也可能因为**累积梯度**而被更新。<br><br>\n",
    "\n",
    "注意，在一次前向传播中，未被激活的专家不会参与计算，因此它们的梯度也不会直接更新。但是，模型通常会在多个 batch 或不同输入中均衡地激活不同的专家，因此所有专家的参数会在整个训练过程中得到更新。"
   ]
  },
  {
   "cell_type": "markdown",
   "id": "4754e05b-437a-4ade-a46b-84994671e4bf",
   "metadata": {},
   "source": [
    "> **谁决定了专家是否被激活？哪个层次的信息在选择专家？**"
   ]
  },
  {
   "cell_type": "markdown",
   "id": "8e864149-0c02-4784-b450-4c734077d687",
   "metadata": {
    "jp-MarkdownHeadingCollapsed": true
   },
   "source": [
    "在**混合专家模型 (MoE)** 中，由于其**稀疏激活机制**，专家的选择并非针对于整个批次的整体输出，而是**针对每个 token（或时间步）进行选择和计算**的。这就是为什么一个专家的激活频率会是基于**每个 token** 或 **每个时间步**来统计的。\n",
    "\n",
    "在引入 **MoE** 后，模型会为**每个 token 或每个时间步单独计算路由器输出**，从而决定该 token 应该使用哪些专家。这意味着：\n",
    "\n",
    "  - **每个 token 或每个位置**的计算会激活不同的专家。\n",
    "  - 每个专家在同一批次的不同 token 上可能会被多次激活。\n",
    "\n",
    "因此，在 MoE 中，<font color=\"red\">**专家的选择是基于每个 token 进行的，而不是基于整个序列或批次**。"
   ]
  },
  {
   "cell_type": "code",
   "execution_count": null,
   "id": "a3f32f28-5529-4f45-8f8f-c758795abb48",
   "metadata": {
    "jp-MarkdownHeadingCollapsed": true
   },
   "outputs": [],
   "source": [
    "Input sequence: [Token_1, Token_2, Token_3, Token_4]"
   ]
  },
  {
   "cell_type": "markdown",
   "id": "95899fa8-4584-494b-989f-5a2aa8d221ad",
   "metadata": {},
   "source": [
    "对于每个 token，路由器可能会选择不同的专家：\n",
    "\n",
    "Token_1：选择专家 1 和专家 3。<br>\n",
    "Token_2：选择专家 2 和专家 3。<br>\n",
    "Token_3：选择专家 1 和专家 4。<br>\n",
    "Token_4：选择专家 2 和专家 1。<br>\n",
    "\n",
    "在这个例子中，专家 1 被激活了 3 次（分别在 Token_1、Token_3 和 Token_4 上）"
   ]
  },
  {
   "cell_type": "markdown",
   "id": "3d4540a1-e2d3-48bf-b7ec-5e3a9dc595be",
   "metadata": {
    "jp-MarkdownHeadingCollapsed": true
   },
   "source": [
    "那为什么专家的选择是基于每个 token 而非整张表？这是因为 Transformer 模型中的每个 token 的特征可能不同，而**MoE 的目标是为不同的特征选择最适合的专家**。具体来说：\n",
    "\n",
    "- **路由器**会根据每个 token 的输入特征计算 softmax 得分，并为每个 token 选择 Top-k 个专家。\n",
    "- 这样可以确保模型的不同部分专注于处理特定类型的特征，例如：\n",
    "  - 某个专家可能擅长处理动词结构。\n",
    "  - 另一个专家可能擅长处理名词短语。\n",
    "\n",
    "这种 **“按 token” 的专家选择机制** 提高了模型的表达能力和灵活性。"
   ]
  },
  {
   "cell_type": "markdown",
   "id": "6fc6127c-ae66-46c2-89b1-8c81cacadca1",
   "metadata": {},
   "source": [
    "> **瓶颈问题**"
   ]
  },
  {
   "cell_type": "markdown",
   "id": "2981b541-f5e8-4738-96c9-3e65027f1f75",
   "metadata": {},
   "source": [
    "少数专家成为“**瓶颈**”是**混合专家模型 (MoE)** 中常见的问题之一。在 MoE 中，路由器（Gate）会为每个输入选择一部分专家（如 Top-k 个）来处理当前任务。然而，由于**数据分布不均**或路由器的偏向性、以及训练的偶然性，实际中可能会出现以下几种情况：\n",
    "\n",
    "1. **专家的偏向性**：由于路由器的训练偏差，某些专家会被频繁激活，而其他专家几乎从不被使用。\n",
    "2. **激活不均衡**：一些专家会承载大部分计算负担，而其他专家却“闲置”，无法获得足够的训练机会。\n",
    "3. **参数更新不充分**：未被激活的专家参数得不到更新，导致这些专家无法在模型训练中发挥作用。\n",
    "\n",
    "这样的情况被称为“专家瓶颈”，这可能导致——\n",
    "\n",
    "- **负载不均衡**：瓶颈专家承载过多的计算负担，而其他专家闲置，导致模型整体计算资源未能高效利用。\n",
    "- **训练效果下降**：频繁被激活的专家过度训练，可能出现**过拟合**，而其他专家则由于长期未被激活导致参数更新不足，导致模型的泛化能力下降。\n",
    "- **模型退化**：随着训练的进行，未被激活的专家无法学习到有用的特征，进而降低整个模型的表现。\n",
    "\n",
    "为了解决**专家瓶颈**问题，通常引入一种称为**辅助损失（Auxiliary Loss）**的机制，用来**均衡专家的使用频率**，确保所有专家都能在训练中获得足够的激活机会。这种辅助损失会被叠加在神经网络的主要损失（如交叉熵损失、MSE 等）上，它在训练过程中与主要损失一起影响模型的反向传播和参数更新。这种设计确保模型在优化主要任务的同时，也能够实现一些额外的目标，比如均衡专家的使用频率、提升模型的泛化能力。\n",
    "\n",
    "当存在辅助损失时，总损失的计算公式为：\n",
    "\n",
    "$$\\text{Total Loss} = \\text{Main Loss} + \\alpha \\cdot \\text{Auxiliary Loss}$$\n",
    "\n",
    "其中$\\alpha$是用来控制平衡的超参数。"
   ]
  },
  {
   "cell_type": "markdown",
   "id": "b445fe92-dcdb-4590-bd0e-3a7b6af2977a",
   "metadata": {},
   "source": [
    "<font color=\"red\">**关键问题3：MoE模型的推理过程是怎样的？为什么说MoE可以更快地推理？**"
   ]
  },
  {
   "cell_type": "markdown",
   "id": "58bbd2f2-518c-43f9-8e9b-dcd1fc640993",
   "metadata": {},
   "source": [
    "在推理阶段，模型只需要一次前向传播来获得输出，不需要计算梯度，因此计算量和内存需求更小。稀疏激活在推理中的作用尤为明显。\n",
    "\n",
    "> **MoE 推理流程：**"
   ]
  },
  {
   "cell_type": "markdown",
   "id": "d728c81a-7506-4ceb-bb58-8e01ca278eb8",
   "metadata": {},
   "source": [
    "1. **输入数据通过路由器**：输入数据经过路由器，路由器根据当前输入，计算每个专家的得分（`G_i(x)`）。"
   ]
  },
  {
   "cell_type": "markdown",
   "id": "002250ae-424f-4ec9-a814-16ede2e0e5ff",
   "metadata": {},
   "source": [
    "2. **激活 Top-k 专家**：路由器选择 **Top-k** 个得分最高的专家，并忽略其他专家。\n"
   ]
  },
  {
   "cell_type": "markdown",
   "id": "0265e68d-c930-455c-8e55-6754e9a900c9",
   "metadata": {},
   "source": [
    "3. **Top-k 专家输出计算**：只有这 **Top-k** 个专家参与计算，其他专家的输出为 0，减少了计算开销。"
   ]
  },
  {
   "cell_type": "markdown",
   "id": "182bb761-20a9-4e69-b502-4dc61401e09e",
   "metadata": {},
   "source": [
    "4. **加权求和得到最终输出**：路由器对这 **Top-k** 个专家的输出进行**加权求和**，得到模型的最终输出。"
   ]
  },
  {
   "cell_type": "markdown",
   "id": "284d8d08-4f9c-43aa-b279-d2bcb2e0faaa",
   "metadata": {},
   "source": [
    "> **很显然，MoE的推理过程比常规线性层的推理流程快很多——**"
   ]
  },
  {
   "cell_type": "markdown",
   "id": "dcd1e72d-9d61-4be5-8180-867a0f8e8617",
   "metadata": {},
   "source": [
    "1. **稀疏激活减少计算**：在推理时，只计算 **Top-k** 个专家的输出，未被激活的专家不会进行计算，从而大幅减少计算量。"
   ]
  },
  {
   "cell_type": "markdown",
   "id": "d63daf3b-9bf5-4b04-b273-9b2c1ecadc64",
   "metadata": {},
   "source": [
    "2. **内存占用减少**：由于只计算部分专家的输出，内存占用大幅减少。这尤其适用于**大模型**，如 Switch Transformer，在保持模型大容量的同时减少推理时的内存占用。"
   ]
  },
  {
   "cell_type": "markdown",
   "id": "970678cd-0999-4a9d-8a0b-3e3c3aac7d86",
   "metadata": {},
   "source": [
    "| **阶段**        | **训练**                                  | **推理**                                  |\n",
    "|----------------|-------------------------------------------|------------------------------------------|\n",
    "| **激活专家数**  | Top-k 专家参与计算，但所有专家更新参数      | 只激活 Top-k 专家，其他专家不计算         |\n",
    "| **反向传播**    | 需要反向传播和梯度计算                     | 不需要梯度计算                            |\n",
    "| **内存占用**    | 高（需要存储所有专家的参数和梯度）           | 低（只需要存储部分专家的输出）             |\n",
    "| **计算量**      | 高（所有专家的梯度都可能被更新）             | 低（只计算部分专家的输出）                 |\n",
    "| **负载均衡**    | 需要负载均衡，避免专家使用不均              | 不需要，因为只需一次前向传播               |\n",
    "| **跨设备通信**  | 需要频繁的跨设备通信                       | 通信需求较低                              |"
   ]
  },
  {
   "cell_type": "markdown",
   "id": "8690fe5e-2a4e-4357-b01d-658322486f73",
   "metadata": {},
   "source": [
    "<font color=\"red\">**关键问题4：MoE模型可用的aux_loss函数有哪些？具体如何实现？**"
   ]
  },
  {
   "cell_type": "markdown",
   "id": "bc7e9896-412b-4125-9381-062ddac8fbcb",
   "metadata": {
    "jp-MarkdownHeadingCollapsed": true
   },
   "source": [
    "在 **Mixture of Experts (MoE)** 模型中，常见的辅助损失（auxiliary loss）用于帮助训练过程中的专家选择更加平衡，防止某些专家被过度选择或其他专家很少被选中。以下是几种常见的 MoE 辅助损失的例子：\n",
    "\n",
    "- 1. **负载平衡损失 (Load Balancing Loss)**：促进不同专家的负载更加平衡，避免过度依赖某个专家。一种常见的形式是使用专家的选择频率与分配的均衡性来构造。通常，目标是让每个专家的选择概率与理想的均匀分布更接近。\n",
    "     $$\n",
    "     \\text{aux\\_loss} = \\sum_{i=1}^{N} f_i \\log(f_i)\n",
    "     $$\n",
    "     其中 $ f_i $ 是第 $ i $ 个专家被选择的频率。\n",
    "<br><br>\n",
    "- 2. **基于熵的损失 (Entropy-based Loss)**：通过增加专家选择的熵，鼓励模型选择更多的专家来参与计算，从而减少某些专家的过载。\n",
    "     $$\n",
    "     \\text{aux\\_loss} = - \\sum_{i=1}^{N} P_i \\log(P_i)\n",
    "     $$\n",
    "     其中 $ P_i $ 是分配给第 $ i $ 个专家的概率。熵越高，说明分配越均匀。\n",
    "<br><br>\n",
    "- 3. **KL 散度损失 (KL Divergence Loss)**：将实际的专家选择分布与理想的均匀分布进行比较。\n",
    "     $$\n",
    "     \\text{aux\\_loss} = \\text{KL}(P || U)\n",
    "     $$\n",
    "     其中 $ P $ 是模型计算出的专家分配概率分布，$ U $ 是理想的均匀分布。通过最小化 KL 散度，确保专家选择接近均匀分布，避免某些专家被过度使用。\n",
    "<br><br>\n",
    "- 4. **专家负载正则化 (Expert Load Regularization)**：控制每个专家的负载，使得负载接近于模型的理想目标负载，比如让每个专家处理相同数量的样本。\n",
    "     $$\n",
    "     \\text{aux\\_loss} = \\sum_{i=1}^{N} (\\text{load}_i - \\text{target\\_load})^2\n",
    "     $$\n",
    "     其中 $ \\text{load}_i $ 是第 $ i $ 个专家的实际负载，$ \\text{target\\_load} $ 是理想的负载。\n",
    "\n",
    "这些辅助损失有助于 MoE 模型在分配专家时更加有效，平衡负载并避免某些专家过度工作或闲置。具体的实现和选择取决于模型的需求和场景。"
   ]
  },
  {
   "cell_type": "markdown",
   "id": "4c917512-62d3-4da3-947d-2418d9980720",
   "metadata": {},
   "source": [
    "- **实际使用的损失函数**\n",
    "\n",
    "在进行实践时，我们可以使用**专家的平均权重**和**平均使用率**来平衡专家的选择。比如说——\n",
    "\n",
    "$$\n",
    "\\text{aux\\_loss} = \\alpha \\times \\sum_{i=1}^{N_{\\text{routed\\_experts}}} (P_i \\cdot f_i)\n",
    "$$\n",
    "\n",
    "- $ N_{\\text{routed\\_experts}} $ 是专家的数量。\n",
    "- $ P_i $ 是所有专家的平均权重。\n",
    "- $ f_i $ 是专家的平均使用率。\n",
    "- 最后的辅助损失是所有专家的分配概率和使用频率乘积的加权求和，用参数 $ \\alpha $ 来缩放损失。\n",
    "\n",
    "这种方法类似于在负载平衡中的一个更直接的版本，避免了 `log` 函数的使用，这样可以让代码运行更快速，另外也可以让损失不那么敏感。`log` 函数通常用于拉伸分布，使得损失函数对极值更加敏感。在实现时如果直接使用每个专家的概率和使用频率的乘积，是一种较为简单的方式来衡量专家的平衡性。"
   ]
  },
  {
   "cell_type": "code",
   "execution_count": 69,
   "id": "9e11a855-1ab6-4c41-93f3-2a6a61cba81e",
   "metadata": {},
   "outputs": [],
   "source": [
    "import math\n",
    "import struct\n",
    "import inspect\n",
    "import time\n",
    "\n",
    "import LMConfig\n",
    "from typing import Any, Optional, Tuple\n",
    "import numpy as np\n",
    "import torch\n",
    "import torch.nn.functional as F\n",
    "from torch import nn\n",
    "from transformers import PreTrainedModel\n",
    "from transformers.modeling_outputs import CausalLMOutputWithPast"
   ]
  },
  {
   "cell_type": "code",
   "execution_count": 64,
   "id": "5cd15d67-4187-41b2-a214-a133d3be1b4a",
   "metadata": {},
   "outputs": [
    {
     "data": {
      "text/plain": [
       "(0.6675000000000001, 0.6631250000000001, 0.8775000000000001)"
      ]
     },
     "execution_count": 64,
     "metadata": {},
     "output_type": "execute_result"
    }
   ],
   "source": [
    "import numpy as np\n",
    "\n",
    "# 定义三个权重矩阵和对应的 top-k 矩阵\n",
    "# 非常均衡、但是每个专家对每个token的处理高度类似\n",
    "# 没有实现专家的特异化\n",
    "weights_1 = np.array([\n",
    "    [0.34, 0.34, 0.32],\n",
    "    [0.34, 0.32, 0.34],\n",
    "    [0.34, 0.34, 0.32],\n",
    "    [0.32, 0.34, 0.34]\n",
    "])\n",
    "\n",
    "topk_1 = np.array([\n",
    "    [1, 1, 0],\n",
    "    [1, 0, 1],\n",
    "    [1, 1, 0],\n",
    "    [0, 1, 1]\n",
    "])\n",
    "\n",
    "# 每个专家都有被用到，也实现了一定的特异化\n",
    "weights_2 = np.array([\n",
    "    [0.6, 0.25, 0.15],\n",
    "    [0.4, 0.4, 0.2],\n",
    "    [0.3, 0.6, 0.1],\n",
    "    [0.04, 0.06, 0.9]\n",
    "])\n",
    "\n",
    "topk_2 = np.array([\n",
    "    [1, 1, 0],\n",
    "    [1, 1, 0],\n",
    "    [1, 1, 0],\n",
    "    [0, 1, 1]\n",
    "])\n",
    "\n",
    "# 不均衡，只有专家1和专家2被使用\n",
    "weights_3 = np.array([\n",
    "    [0.6, 0.25, 0.15],\n",
    "    [0.4, 0.4, 0.2],\n",
    "    [0.3, 0.6, 0.1],\n",
    "    [0.9, 0.06, 0.04]\n",
    "])\n",
    "\n",
    "topk_3 = np.array([\n",
    "    [1, 1, 0],\n",
    "    [1, 1, 0],\n",
    "    [1, 1, 0],\n",
    "    [1, 1, 0]\n",
    "])\n",
    "\n",
    "# 定义计算 Pi * fi 的函数\n",
    "def calculate_aux_loss(weights, topk):\n",
    "    Pi = weights.mean(axis=0)  # 计算纵向均值 Pi\n",
    "    fi = topk.mean(axis=0)     # 计算纵向均值 fi\n",
    "    Pi_fi = Pi * fi            # 计算 Pi * fi\n",
    "    return Pi_fi.sum()         # 返回 aux_loss\n",
    "\n",
    "# 计算三个 aux_loss\n",
    "aux_loss_1 = calculate_aux_loss(weights_1, topk_1)\n",
    "aux_loss_2 = calculate_aux_loss(weights_2, topk_2)\n",
    "aux_loss_3 = calculate_aux_loss(weights_3, topk_3)\n",
    "\n",
    "aux_loss_1, aux_loss_2, aux_loss_3"
   ]
  },
  {
   "cell_type": "markdown",
   "id": "d5298972-43d3-4650-a324-6339b5c476b1",
   "metadata": {},
   "source": [
    "- **代码中的Pi计算与Fi计算**"
   ]
  },
  {
   "cell_type": "code",
   "execution_count": 68,
   "id": "c33dd4ed-0b24-4f51-a7a1-9451ed3cd2aa",
   "metadata": {},
   "outputs": [
    {
     "data": {
      "text/plain": [
       "torch.Size([30, 6])"
      ]
     },
     "execution_count": 68,
     "metadata": {},
     "output_type": "execute_result"
    }
   ],
   "source": [
    "bsz = 3\n",
    "seq_len = 10\n",
    "\n",
    "#从所有专家那里获得的输出结果\n",
    "hidden_states = torch.randn(size=(30,512))\n",
    "\n",
    "#权重的初始化参数\n",
    "self_weight = torch.randn(size=(6,512))\n",
    "\n",
    "#利用线性层将二者相连，构建每个token上每个专家的权重\n",
    "weights = F.linear(hidden_states, self_weight, None)\n",
    "\n",
    "weights.shape #每个token在每个专家上的得分"
   ]
  },
  {
   "cell_type": "code",
   "execution_count": 73,
   "id": "79ab3829-0a37-4135-9ba8-5c4b62f902e8",
   "metadata": {},
   "outputs": [
    {
     "data": {
      "text/plain": [
       "tensor([[-12.3657,  17.0877, -18.9656,  -8.8610,  44.1774,  30.1824],\n",
       "        [ 20.3411, -20.2856,   1.4306,  -5.1553,   2.7279,  -2.8289],\n",
       "        [  1.5791,  -5.1779, -45.0106,  28.4815,  14.1131,  -3.5699],\n",
       "        [-18.1684,  10.7702, -22.4980,   8.7829,   5.4515, -14.3356],\n",
       "        [-33.1890, -11.0316,  19.4646,   6.2980,  44.6038, -15.4577],\n",
       "        [-20.9658,  -6.7193, -15.1916,  21.5101,  -9.6914,   8.9385],\n",
       "        [ 36.5068,  11.9159,   9.3812,   2.3989,  19.6420,  -0.6567],\n",
       "        [ 13.4714,   3.1922,  23.7547, -38.6351,  -5.8330, -32.6042],\n",
       "        [ 43.8076, -15.1372,   2.0251,  -3.8141, -32.4383, -41.9985],\n",
       "        [  9.6094,  22.0590,  11.4946,   7.4589,  -6.5452,  -1.9821],\n",
       "        [ 37.4659,   1.6940, -14.2333,  21.4023,  31.5325,  25.8175],\n",
       "        [ 28.4776,   1.7487, -18.7158,  49.3381, -25.5030,  18.6360],\n",
       "        [ 67.0392,  -3.3171, -47.9532,  25.3408, -21.9846,  26.7697],\n",
       "        [-19.9617,  54.8721,  -1.5347, -11.1723, -17.6458,  -1.9065],\n",
       "        [-37.7005,   1.4074,  20.0198,  47.6124,   1.0387,   3.5430],\n",
       "        [ -8.1231, -22.7816,  19.9131,  -1.6460, -33.2116,  31.5127],\n",
       "        [ -7.8739,  -3.8522,  12.1932,  36.7933,   5.8989,  14.5877],\n",
       "        [ 10.8363,  -3.0343,   9.7497, -35.1124,  -0.9021, -10.6730],\n",
       "        [ 31.9515, -26.2520,  16.4225, -20.8261, -29.7659,  -5.2601],\n",
       "        [  5.7797,  15.4843,  -1.3180,  21.4633,  -9.0845,  -0.9449],\n",
       "        [  0.9538, -24.4142, -12.5256,  40.1085,  15.4030,  -6.4359],\n",
       "        [  6.8480,  25.3027,  -3.0385,   5.7115,  -4.5227,   0.5160],\n",
       "        [ 14.6567,  -8.0604, -11.7071, -30.9817,  -4.3033, -15.3558],\n",
       "        [  7.5315,  -4.7601, -10.3903, -39.3860,  -7.1358,  -2.9154],\n",
       "        [ -0.6197, -11.2035,  21.6629, -48.8763,  -1.5226, -28.6114],\n",
       "        [  1.3166,  -2.1577,  -3.1116,  21.3182,  15.3025,  -8.2563],\n",
       "        [-12.8069, -48.3889,   7.3314,   4.0233,  24.4738,  18.6199],\n",
       "        [ -7.1883,  -1.1726, -24.3772,  54.2391, -19.9052,  14.7075],\n",
       "        [ 25.6107,  -6.9439,  -2.6833, -17.3397,  26.0228,  52.3016],\n",
       "        [-22.6098, -30.1528,   7.1860,  -0.5940, -18.1783,  10.4084]])"
      ]
     },
     "execution_count": 73,
     "metadata": {},
     "output_type": "execute_result"
    }
   ],
   "source": [
    "weights #在这基础上求均值就是Pi"
   ]
  },
  {
   "cell_type": "code",
   "execution_count": null,
   "id": "30e5ca61-13fa-47ae-8d9c-7dbf1cc55f1d",
   "metadata": {},
   "outputs": [],
   "source": [
    "# 求解topK"
   ]
  },
  {
   "cell_type": "code",
   "execution_count": 28,
   "id": "c23c61fb-e041-48e6-9ebf-715774741791",
   "metadata": {},
   "outputs": [],
   "source": [
    "weights = weights.softmax(-1) #6个专家的得分总和被归一化到[0,1]之间"
   ]
  },
  {
   "cell_type": "code",
   "execution_count": 29,
   "id": "077c5efd-be0b-4b88-82ee-359d5d6ef6bb",
   "metadata": {},
   "outputs": [],
   "source": [
    "topk_weight, topk_idx = torch.topk(weights, k=2, dim=-1, sorted=False)"
   ]
  },
  {
   "cell_type": "code",
   "execution_count": 72,
   "id": "e6337f30-f47d-45ca-a5eb-6ebba04bcdfc",
   "metadata": {},
   "outputs": [
    {
     "data": {
      "text/plain": [
       "tensor([[9.8320e-01, 1.6795e-02],\n",
       "        [9.9403e-01, 5.9744e-03],\n",
       "        [9.8880e-01, 1.1198e-02],\n",
       "        [9.9991e-01, 5.1956e-05],\n",
       "        [7.7478e-01, 2.2522e-01],\n",
       "        [9.9998e-01, 1.7492e-05],\n",
       "        [1.0000e+00, 8.1331e-07],\n",
       "        [1.0000e+00, 1.6485e-13],\n",
       "        [9.9999e-01, 1.0975e-05],\n",
       "        [1.0000e+00, 2.4947e-07],\n",
       "        [1.0000e+00, 6.5668e-10],\n",
       "        [1.0000e+00, 4.6358e-06],\n",
       "        [9.6342e-01, 3.6527e-02],\n",
       "        [7.5047e-01, 2.4953e-01],\n",
       "        [1.0000e+00, 5.1874e-10],\n",
       "        [1.0000e+00, 2.2371e-15],\n",
       "        [1.0000e+00, 4.7236e-19],\n",
       "        [9.9774e-01, 1.5608e-03],\n",
       "        [9.9731e-01, 2.6825e-03],\n",
       "        [1.0000e+00, 3.0291e-24],\n",
       "        [1.0000e+00, 6.3939e-15],\n",
       "        [9.9961e-01, 3.8797e-04],\n",
       "        [1.0000e+00, 6.4792e-12],\n",
       "        [1.0000e+00, 1.2438e-16],\n",
       "        [6.1678e-01, 3.8322e-01],\n",
       "        [9.9997e-01, 2.5446e-05],\n",
       "        [1.0000e+00, 6.9169e-11],\n",
       "        [9.9994e-01, 6.0623e-05],\n",
       "        [7.7002e-01, 2.2997e-01],\n",
       "        [9.8577e-01, 1.4225e-02]])"
      ]
     },
     "execution_count": 72,
     "metadata": {},
     "output_type": "execute_result"
    }
   ],
   "source": [
    "topk_weight #每个token效果最好的两个专家上的权重"
   ]
  },
  {
   "cell_type": "code",
   "execution_count": 76,
   "id": "3ad0ddf1-67b0-4da2-86c1-89390e9e6ad5",
   "metadata": {},
   "outputs": [
    {
     "data": {
      "text/plain": [
       "tensor([[2, 3],\n",
       "        [2, 1],\n",
       "        [5, 0],\n",
       "        [2, 3],\n",
       "        [0, 4],\n",
       "        [3, 1],\n",
       "        [5, 3],\n",
       "        [2, 5],\n",
       "        [2, 5],\n",
       "        [2, 3],\n",
       "        [4, 5],\n",
       "        [1, 5],\n",
       "        [1, 0],\n",
       "        [1, 3],\n",
       "        [5, 2],\n",
       "        [3, 0],\n",
       "        [2, 1],\n",
       "        [3, 1],\n",
       "        [4, 5],\n",
       "        [2, 1],\n",
       "        [5, 4],\n",
       "        [3, 1],\n",
       "        [2, 3],\n",
       "        [3, 2],\n",
       "        [2, 4],\n",
       "        [5, 0],\n",
       "        [5, 0],\n",
       "        [1, 0],\n",
       "        [0, 5],\n",
       "        [4, 0]])"
      ]
     },
     "execution_count": 76,
     "metadata": {},
     "output_type": "execute_result"
    }
   ],
   "source": [
    "topk_idx #每个token激活的前2个专家"
   ]
  },
  {
   "cell_type": "code",
   "execution_count": 77,
   "id": "1e9bb144-2d3e-4af6-91c4-f47f341e80d1",
   "metadata": {},
   "outputs": [
    {
     "data": {
      "text/plain": [
       "tensor([[0, 0, 1, 0, 0, 0],\n",
       "        [0, 0, 0, 1, 0, 0],\n",
       "        [0, 0, 1, 0, 0, 0],\n",
       "        [0, 1, 0, 0, 0, 0],\n",
       "        [0, 0, 0, 0, 0, 1],\n",
       "        [1, 0, 0, 0, 0, 0],\n",
       "        [0, 0, 1, 0, 0, 0],\n",
       "        [0, 0, 0, 1, 0, 0],\n",
       "        [1, 0, 0, 0, 0, 0],\n",
       "        [0, 0, 0, 0, 1, 0],\n",
       "        [0, 0, 0, 1, 0, 0],\n",
       "        [0, 1, 0, 0, 0, 0],\n",
       "        [0, 0, 0, 0, 0, 1],\n",
       "        [0, 0, 0, 1, 0, 0],\n",
       "        [0, 0, 1, 0, 0, 0],\n",
       "        [0, 0, 0, 0, 0, 1],\n",
       "        [0, 0, 1, 0, 0, 0],\n",
       "        [0, 0, 0, 0, 0, 1],\n",
       "        [0, 0, 1, 0, 0, 0],\n",
       "        [0, 0, 0, 1, 0, 0],\n",
       "        [0, 0, 0, 0, 1, 0],\n",
       "        [0, 0, 0, 0, 0, 1],\n",
       "        [0, 1, 0, 0, 0, 0],\n",
       "        [0, 0, 0, 0, 0, 1],\n",
       "        [0, 1, 0, 0, 0, 0],\n",
       "        [1, 0, 0, 0, 0, 0],\n",
       "        [0, 1, 0, 0, 0, 0],\n",
       "        [0, 0, 0, 1, 0, 0],\n",
       "        [0, 0, 0, 0, 0, 1],\n",
       "        [0, 0, 1, 0, 0, 0],\n",
       "        [0, 0, 0, 1, 0, 0],\n",
       "        [1, 0, 0, 0, 0, 0],\n",
       "        [0, 0, 1, 0, 0, 0],\n",
       "        [0, 1, 0, 0, 0, 0],\n",
       "        [0, 0, 0, 1, 0, 0],\n",
       "        [0, 1, 0, 0, 0, 0],\n",
       "        [0, 0, 0, 0, 1, 0],\n",
       "        [0, 0, 0, 0, 0, 1],\n",
       "        [0, 0, 1, 0, 0, 0],\n",
       "        [0, 1, 0, 0, 0, 0],\n",
       "        [0, 0, 0, 0, 0, 1],\n",
       "        [0, 0, 0, 0, 1, 0],\n",
       "        [0, 0, 0, 1, 0, 0],\n",
       "        [0, 1, 0, 0, 0, 0],\n",
       "        [0, 0, 1, 0, 0, 0],\n",
       "        [0, 0, 0, 1, 0, 0],\n",
       "        [0, 0, 0, 1, 0, 0],\n",
       "        [0, 0, 1, 0, 0, 0],\n",
       "        [0, 0, 1, 0, 0, 0],\n",
       "        [0, 0, 0, 0, 1, 0],\n",
       "        [0, 0, 0, 0, 0, 1],\n",
       "        [1, 0, 0, 0, 0, 0],\n",
       "        [0, 0, 0, 0, 0, 1],\n",
       "        [1, 0, 0, 0, 0, 0],\n",
       "        [0, 1, 0, 0, 0, 0],\n",
       "        [1, 0, 0, 0, 0, 0],\n",
       "        [1, 0, 0, 0, 0, 0],\n",
       "        [0, 0, 0, 0, 0, 1],\n",
       "        [0, 0, 0, 0, 1, 0],\n",
       "        [1, 0, 0, 0, 0, 0]])"
      ]
     },
     "execution_count": 77,
     "metadata": {},
     "output_type": "execute_result"
    }
   ],
   "source": [
    "# 拓展成类似于one-hot的结构\n",
    "topk_idx_for_aux_loss = topk_idx.view(3, -1)\n",
    "topk_idx_for_aux_loss.shape\n",
    "mask_ce = F.one_hot(topk_idx_for_aux_loss.view(-1), num_classes=6)\n",
    "\n",
    "mask_ce #Fi"
   ]
  },
  {
   "cell_type": "markdown",
   "id": "ca9f4dcd-7623-4b42-bbc7-a986b380fc5f",
   "metadata": {},
   "source": [
    "<font color=\"red\">**关键问题5：MoE模型的具体实现**"
   ]
  },
  {
   "cell_type": "markdown",
   "id": "754ce3ef-7c69-445b-aed5-4bddb3959f5d",
   "metadata": {},
   "source": [
    "<center><img src=\"https://skojiangdoc.oss-cn-beijing.aliyuncs.com/2024LLM/16.png\" alt=\"描述文字\" width=\"400\">"
   ]
  },
  {
   "cell_type": "code",
   "execution_count": 61,
   "id": "aa2c7722-4009-499a-bc8e-c013148337ea",
   "metadata": {},
   "outputs": [],
   "source": [
    "import torch\n",
    "import torch.nn as nn\n",
    "import torch.nn.functional as F\n",
    "import math\n",
    "\n",
    "class MoEGate(nn.Module):\n",
    "    def __init__(self, config: LMConfig):\n",
    "        \"\"\"\n",
    "        初始化 MoEGate 类，用于混合专家模型中的门控机制。\n",
    "\n",
    "        参数：\n",
    "        - config: LMConfig 对象，包含模型的配置信息，如专家数量、得分函数、辅助损失等。\n",
    "        \"\"\"\n",
    "        super().__init__()\n",
    "        self.config = config  # 保存配置信息\n",
    "        self.top_k = config.num_experts_per_tok  # 每次选择的 top-k 个专家数量\n",
    "        self.n_routed_experts = config.n_routed_experts  # 总的专家数量\n",
    "\n",
    "        self.scoring_func = config.scoring_func  # 路由器使用的得分函数（如 softmax）\n",
    "        self.alpha = config.aux_loss_alpha  # 辅助损失的系数\n",
    "        self.seq_aux = config.seq_aux  # 是否启用基于序列的辅助损失\n",
    "\n",
    "        self.norm_topk_prob = config.norm_topk_prob  # 是否对 top-k 权重进行归一化\n",
    "        # 每个专家被给与的权重的维度\n",
    "        self.gating_dim = config.dim  # 输入维度\n",
    "        # 路由器的权重矩阵：用于计算每个专家的得分\n",
    "        self.weight = nn.Parameter(torch.empty((self.n_routed_experts, self.gating_dim)))\n",
    "        self.reset_parameters()  # 初始化权重参数\n",
    "\n",
    "    def reset_parameters(self) -> None:\n",
    "        \"\"\"\n",
    "        使用 Kaiming 初始化方法对权重矩阵进行初始化，确保模型在深层网络中有较好的梯度流动。\n",
    "        \"\"\"\n",
    "        import torch.nn.init as init\n",
    "        init.kaiming_uniform_(self.weight, a=math.sqrt(5))  # Kaiming 初始化\n",
    "\n",
    "    def forward(self, hidden_states):\n",
    "        \"\"\"\n",
    "        前向传播：根据输入的隐状态（hidden_states）计算专家的得分，选择 top-k 个专家，\n",
    "        并在训练时计算辅助损失。\n",
    "\n",
    "        参数：\n",
    "        - hidden_states: Tensor，形状为 (batch_size, seq_len, hidden_dim) 的输入张量。\n",
    "\n",
    "        返回：\n",
    "        - topk_idx: 被选中的 top-k 个专家的索引。\n",
    "        - topk_weight: 这些专家对应的权重。\n",
    "        - aux_loss: 在训练模式下返回的辅助损失（否则为 None）。\n",
    "        \"\"\"\n",
    "        # 获取 batch 大小、序列长度和隐藏维度\n",
    "        bsz, seq_len, h = hidden_states.shape\n",
    "\n",
    "        # 将输入重塑为二维张量 (batch_size * seq_len, hidden_dim)\n",
    "        hidden_states = hidden_states.view(-1, h)\n",
    "\n",
    "        # 使用线性层计算每个专家的得分，token-level (n_routed_experts, gating_dim) -> (batch_size * seq_len, n_routed_experts)\n",
    "        logits = F.linear(hidden_states, self.weight, None)\n",
    "\n",
    "        # 根据配置，使用 softmax 对得分进行归一化处理\n",
    "        if self.scoring_func == 'softmax':\n",
    "            scores = logits.softmax(dim=-1)  # 按照最后一维计算 softmax\n",
    "        else:\n",
    "            raise NotImplementedError(f'insupportable scoring function for MoE gating: {self.scoring_func}')\n",
    "\n",
    "        # 获取 top-k 专家的权重和对应的索引\n",
    "        topk_weight, topk_idx = torch.topk(scores, k=self.top_k, dim=-1, sorted=False)\n",
    "\n",
    "        # 如果启用归一化，则对 top-k 权重进行归一化处理\n",
    "        if self.top_k > 1 and self.norm_topk_prob:\n",
    "            # 避免除以 0，添加小数项 1e-20\n",
    "            denominator = topk_weight.sum(dim=-1, keepdim=True) + 1e-20\n",
    "            topk_weight = topk_weight / denominator\n",
    "\n",
    "        # 如果在训练模式下且辅助损失系数 alpha > 0，则计算辅助损失\n",
    "        if self.training and self.alpha > 0.0:\n",
    "            scores_for_aux = scores  # 获取所有专家的得分用于辅助损失计算\n",
    "            aux_topk = self.top_k  # 辅助损失中使用的 top-k 专家数量\n",
    "            # 将 top-k 专家的索引重塑为 (batch_size, top_k * seq_len)\n",
    "            topk_idx_for_aux_loss = topk_idx.view(bsz, -1)\n",
    "\n",
    "            if self.seq_aux:\n",
    "                # 如果启用了序列级别的辅助损失\n",
    "                scores_for_seq_aux = scores_for_aux.view(bsz, seq_len, -1)\n",
    "\n",
    "                # 初始化交叉熵损失的张量\n",
    "                ce = torch.zeros(bsz, self.n_routed_experts, device=hidden_states.device)\n",
    "\n",
    "                # 按照每个序列来计算，计算每个序列所对应的所有专家权重\n",
    "                ce.scatter_add_(\n",
    "                    1, topk_idx_for_aux_loss,\n",
    "                    torch.ones(bsz, seq_len * aux_topk, device=hidden_states.device)\n",
    "                ).div_(seq_len * aux_topk / self.n_routed_experts)\n",
    "\n",
    "                # 计算序列级别的辅助损失\n",
    "                aux_loss = (ce * scores_for_seq_aux.mean(dim=1)).sum(dim=1).mean() * self.alpha\n",
    "            else:\n",
    "                # 如果没有启用序列级别的辅助损失\n",
    "                # 使用 one-hot 编码标记被选中的专家\n",
    "                mask_ce = F.one_hot(topk_idx_for_aux_loss.view(-1), num_classes=self.n_routed_experts)\n",
    "                ce = mask_ce.float().mean(0)  # 计算每个专家的平均使用率\n",
    "\n",
    "                Pi = scores_for_aux.mean(0)  # 所有专家的平均分配概率\n",
    "                fi = ce * self.n_routed_experts  # 专家使用频率\n",
    "                aux_loss = (Pi * fi).sum() * self.alpha  # 计算辅助损失\n",
    "        else:\n",
    "            aux_loss = None  # 如果不在训练模式或 alpha=0，则不计算辅助损失\n",
    "\n",
    "        # 返回 top-k 专家的索引、对应权重和辅助损失\n",
    "        return topk_idx, topk_weight, aux_loss"
   ]
  },
  {
   "cell_type": "code",
   "execution_count": 2,
   "id": "723a575d",
   "metadata": {},
   "outputs": [
    {
     "name": "stdout",
     "output_type": "stream",
     "text": [
      "tensor([[1, 2, 3],\n",
      "        [1, 2, 3],\n",
      "        [4, 5, 6],\n",
      "        [4, 5, 6]])\n"
     ]
    }
   ],
   "source": [
    "import torch\n",
    "\n",
    "arry = torch.tensor([[1, 2, 3], [4, 5, 6]])\n",
    "print(arry.repeat_interleave(2, dim=0))"
   ]
  },
  {
   "cell_type": "code",
   "execution_count": 60,
   "id": "92e79925-c159-4c87-ba6f-332478852325",
   "metadata": {},
   "outputs": [],
   "source": [
    "import torch\n",
    "import torch.nn as nn\n",
    "\n",
    "class MOEFeedForward(nn.Module):\n",
    "    def __init__(self, config: LMConfig):\n",
    "        \"\"\"\n",
    "        初始化 MOEFeedForward 类。\n",
    "        \n",
    "        参数：\n",
    "        - config: 包含模型配置的 LMConfig 对象，包括专家数量、维度、隐藏层维度和 dropout 参数。\n",
    "        \"\"\"\n",
    "        super().__init__()\n",
    "        self.config = config\n",
    "        \n",
    "        # 创建多个专家网络的列表 (ModuleList)，每个专家是一个 FeedForward 层\n",
    "        self.experts = nn.ModuleList([\n",
    "            FeedForward(\n",
    "                dim=config.dim,\n",
    "                hidden_dim=config.hidden_dim,\n",
    "                multiple_of=config.multiple_of,\n",
    "                dropout=config.dropout,\n",
    "            )\n",
    "            for _ in range(config.n_routed_experts)  # n_routed_experts：总专家数量\n",
    "        ])\n",
    "\n",
    "        # 创建门控 (Gate) 对象，用于选择哪些专家参与计算\n",
    "        self.gate = MoEGate(config)\n",
    "\n",
    "        # 如果配置指定了共享专家，则代表允许MoE与FeedForward并联\n",
    "        if config.n_shared_experts is not None:\n",
    "            self.shared_experts = FeedForward(\n",
    "                dim=config.dim,\n",
    "                hidden_dim=config.hidden_dim,\n",
    "                multiple_of=config.multiple_of,\n",
    "                dropout=config.dropout,\n",
    "            )\n",
    "\n",
    "    def forward(self, x):\n",
    "        \"\"\"\n",
    "        前向传播逻辑。\n",
    "\n",
    "        参数：\n",
    "        - x: 输入张量，形状为 (batch_size, seq_len, hidden_dim)。\n",
    "\n",
    "        返回：\n",
    "        - y: 输出张量，经过专家网络和共享专家（如果存在）的计算。\n",
    "        \"\"\"\n",
    "        identity = x  # 保存原始输入（用于后续的残差连接）\n",
    "        orig_shape = x.shape  # 保存原始输入的形状信息\n",
    "        bsz, seq_len, _ = x.shape  # 获取批次大小、序列长度和隐藏层维度\n",
    "\n",
    "        # 使用门控机制选择参与计算的专家\n",
    "        topk_idx, topk_weight, aux_loss = self.gate(x)  # topk_idx: 选中的专家索引，topk_weight: 选中的专家权重\n",
    "\n",
    "        # 将输入数据重塑为 (batch_size * seq_len, hidden_dim)\n",
    "        x = x.view(-1, x.shape[-1])  \n",
    "        flat_topk_idx = topk_idx.view(-1)  # 将专家索引展平成一维\n",
    "\n",
    "        if self.training:\n",
    "            # 训练模式下，重复输入数据以适应专家数量\n",
    "            x = x.repeat_interleave(self.config.num_experts_per_tok, dim=0)\n",
    "\n",
    "            # 创建用于存储专家输出的张量\n",
    "            y = torch.empty_like(x, dtype=torch.float16)\n",
    "\n",
    "            # 遍历每个专家，将符合条件的 token 输入到对应专家中\n",
    "            for i, expert in enumerate(self.experts):\n",
    "                y[flat_topk_idx == i] = expert(x[flat_topk_idx == i])  # 仅处理属于该专家的 token\n",
    "\n",
    "            # 计算每个 token 的加权输出\n",
    "            y = (y.view(*topk_weight.shape, -1) * topk_weight.unsqueeze(-1)).sum(dim=1)\n",
    "            y = y.view(*orig_shape)  # 恢复为原始输入的形状\n",
    "        else:\n",
    "            # 推理模式下，只选择最优专家\n",
    "            y = self.moe_infer(x, flat_topk_idx, topk_weight.view(-1, 1)).view(*orig_shape)\n",
    "\n",
    "        # 如果有共享专家，将共享专家的输出与 y 相加（残差连接）\n",
    "        if self.config.n_shared_experts is not None:\n",
    "            y = y + self.shared_experts(identity)\n",
    "\n",
    "        return y\n",
    "\n",
    "    @torch.no_grad()\n",
    "    def moe_infer(self, x, flat_expert_indices, flat_expert_weights):\n",
    "        \"\"\"\n",
    "        推理模式下的专家计算逻辑。\n",
    "\n",
    "        参数：\n",
    "        - x: 输入张量，形状为 (batch_size * seq_len, hidden_dim)。\n",
    "        - flat_expert_indices: 展平后的专家索引，用于指示哪些 token 属于哪些专家。\n",
    "        - flat_expert_weights: 展平后的专家权重，用于加权专家的输出。\n",
    "\n",
    "        返回：\n",
    "        - expert_cache: 经过专家计算后的输出张量。\n",
    "        \"\"\"\n",
    "        # 创建一个与输入形状相同的张量，用于存储专家输出\n",
    "        expert_cache = torch.zeros_like(x)\n",
    "\n",
    "        # 对专家索引进行排序，以便批量处理属于同一专家的 token\n",
    "        idxs = flat_expert_indices.argsort()\n",
    "\n",
    "        # 计算每个专家需要处理的 token 数量，并累积求和以找到每个专家的范围\n",
    "        tokens_per_expert = flat_expert_indices.bincount().cpu().numpy().cumsum(0)\n",
    "\n",
    "        # 将排序后的索引映射回 token 的原始位置\n",
    "        token_idxs = idxs // self.config.num_experts_per_tok\n",
    "\n",
    "        # 遍历每个专家，处理属于该专家的 token\n",
    "        for i, end_idx in enumerate(tokens_per_expert):\n",
    "            # 获取每个专家的 token 范围\n",
    "            start_idx = 0 if i == 0 else tokens_per_expert[i - 1]\n",
    "\n",
    "            # 如果该专家没有处理任何 token，则跳过\n",
    "            if start_idx == end_idx:\n",
    "                continue\n",
    "\n",
    "            # 获取该专家对象\n",
    "            expert = self.experts[i]\n",
    "\n",
    "            # 获取属于该专家的 token 索引和对应的 token\n",
    "            exp_token_idx = token_idxs[start_idx:end_idx]\n",
    "            expert_tokens = x[exp_token_idx]\n",
    "\n",
    "            # 通过专家计算 token 的输出\n",
    "            expert_out = expert(expert_tokens)\n",
    "\n",
    "            # 使用专家的权重对输出进行加权\n",
    "            expert_out.mul_(flat_expert_weights[idxs[start_idx:end_idx]])\n",
    "\n",
    "            # 将加权后的输出累加到 expert_cache 中\n",
    "            expert_cache.scatter_add_(0, exp_token_idx.view(-1, 1).repeat(1, x.shape[-1]), expert_out)\n",
    "\n",
    "        return expert_cache"
   ]
  },
  {
   "cell_type": "markdown",
   "id": "61663bb8-0a39-44b3-9cd4-1f8e6b377d29",
   "metadata": {},
   "source": [
    "## 8. 完整LLaMA架构的搭建"
   ]
  },
  {
   "cell_type": "markdown",
   "id": "ff594899-bdf7-4057-935c-3807ebd15c0c",
   "metadata": {},
   "source": [
    "- **简单复习：LLaMA中的完整元素**"
   ]
  },
  {
   "cell_type": "markdown",
   "id": "7469cb58-96f2-4c5b-ad49-3a2705d5e816",
   "metadata": {},
   "source": [
    "<center><img src=\"https://skojiangdoc.oss-cn-beijing.aliyuncs.com/2024LLM/06.png\" alt=\"描述文字\" width=\"600\">"
   ]
  },
  {
   "cell_type": "markdown",
   "id": "a3e1e203-db36-429e-b985-25aba53aa321",
   "metadata": {},
   "source": [
    "- **并行化带来的影响**"
   ]
  },
  {
   "cell_type": "markdown",
   "id": "4ecac146-42f8-495c-91c4-3379e623b046",
   "metadata": {},
   "source": [
    "搭建完整架构时、除了串联其并行化在深度学习模型的训练中至关重要，特别是当模型架构需要与 **DeepSpeed** 和 **Hugging Face** 等库的分布式训练或并行功能相结合时。为了实现这一目标，我们需要首先了解 **数据并行（Data Parallelism）** 和 **模型并行（Model Parallelism）** 这两种主要的并行方式，并明确架构中哪些关键部分与这些并行策略相关联。\n",
    "\n",
    "- 1. **数据并行与模型并行的认识**<br><br>\n",
    "   - **数据并行**：这是一种常见的并行方式，适用于将相同的模型副本应用于不同的数据切片上。例如，如果有多块 GPU，数据并行会将输入数据批次切分成多个小批次，每个 GPU 上都运行相同的模型副本，同时处理不同的数据子集。这意味着每个设备都计算自己那部分的梯度，然后将所有设备上的梯度汇总，从而对模型进行全局更新。\n",
    "   - **模型并行**：模型并行则适用于非常大的模型，这些模型可能单个设备的内存不足以容纳。模型并行通过将模型的不同部分分布在不同设备上来解决这个问题。模型的不同层或不同的部分会在不同的 GPU 上进行前向和反向传播计算。通常，模型并行用于特别大的神经网络架构，如 Transformer 或 GPT 模型。\n",
    "<br><br>\n",
    "- 2. **架构中与并行相关的关键**<br><br>\n",
    "   - **模型定义**：在设计模型时，需要确保它能够支持并行化。模型的每一层都需要使用标准的 PyTorch 模块（例如 `torch.nn.ModuleList`）来定义，这样可以确保模型在多设备上运行时保持一致性。特别是每一层的输入和输出维度必须匹配，以便于在数据并行或模型并行时正确地传播数据和梯度。你的代码中通过 `TransformerBlock` 和 `torch.nn.ModuleList` 模块化模型结构，这种设计便于并行扩展。\n",
    "   - **支持并行化**：确保模型的架构可以支持数据并行（Data Parallelism）和模型并行（Model Parallelism）。这意味着在定义时要保持各层输入输出尺寸的一致性，便于 DeepSpeed 进行分布式处理。\n",
    "<br><br>\n",
    "- 3. **与 DeepSpeed 和 Hugging Face 的结合**<br><br>\n",
    "   - **使用 Hugging Face 和 DeepSpeed 的配置文件**：在与 Hugging Face 生态系统兼容时，通常需要使用或继承 Hugging Face 的 `PreTrainedModel` 类，并确保模型定义与配置文件（config 文件）相匹配。配置文件中需要定义诸如模型的层数、嵌入维度、注意力头数等超参数，确保 Hugging Face 的 `Trainer` 工具能够正确加载和使用模型。同时，DeepSpeed 允许你通过简化模型并行和梯度计算来进行高效的分布式训练，因此在配置文件中还需要与 DeepSpeed 兼容的设置，例如启用 `zero_optim` 或 `activation checkpointing`。\n",
    "   - **分布式数据并行（DDP）**：DeepSpeed 和 Hugging Face 的分布式训练依赖于 PyTorch 的 `DistributedDataParallel`（DDP）。DDP 通过在多个 GPU 上并行处理数据来加速训练。因此，模型的定义需要支持在多机或多 GPU 环境中运行，并且模型的前向和后向传播需要能够同时在多个设备上进行。你的代码中已经通过模块化的设计方式，为 DDP 的使用提供了基础，但还需要结合 PyTorch 的 `torch.distributed.init_process_group()` 来初始化分布式进程，确保训练过程中的同步。\n",
    "<br><br>\n",
    "- 4. **权重初始化与保存**<br><br>\n",
    "   在分布式训练中，模型的保存和加载方式略有不同，特别是当使用 DeepSpeed 时，模型的检查点（checkpoint）保存和恢复需要使用其专用 API。例如，DeepSpeed 提供了 `deepspeed.save_checkpoint` 和 `deepspeed.load_checkpoint` 函数，以确保模型参数和优化器状态在分布式环境下正确存储和恢复。你的代码在初始化权重时使用了特定的初始化策略，如对 `wo.weight` 和 `w3.weight` 的正态分布初始化，这有助于保证模型的训练收敛性。 \n",
    "<br><br>\n",
    "要让模型架构能够与 **DeepSpeed** 和 **Hugging Face** 的分布式训练功能相结合，首先需要理解数据并行与模型并行的基本概念，确保模型的设计可以支持这些并行方式。模型定义时，应注意权重的共享与初始化，保证层间输入输出尺寸的兼容性。此外，合理配置模型的 `config` 文件，使其能够与 Hugging Face 的 `Trainer` 工具和 DeepSpeed 的分布式优化功能结合使用，这对于大规模模型的训练和推理至关重要。"
   ]
  },
  {
   "cell_type": "code",
   "execution_count": null,
   "id": "99d36897-982b-4865-9025-56843045e07b",
   "metadata": {},
   "outputs": [],
   "source": [
    "class TransformerBlock(nn.Module):\n",
    "    def __init__(self, layer_id: int, args: LMConfig):\n",
    "        \"\"\"\n",
    "        TransformerBlock 是 Transformer 模型的基础构件，包含自注意力机制、前馈网络，并根据配置使用 Mixture of Experts (MoE) 或常规前馈网络。\n",
    "\n",
    "        参数：\n",
    "        - layer_id: 当前层的编号，用于标识层。\n",
    "        - args: LMConfig 配置类，包含模型的超参数配置，如注意力头数、维度等。\n",
    "        \"\"\"\n",
    "        super().__init__()\n",
    "        self.n_heads = args.n_heads  # 注意力头的数量\n",
    "        self.dim = args.dim  # 总的模型维度\n",
    "        self.head_dim = args.dim // args.n_heads  # 每个注意力头的维度\n",
    "        self.attention = Attention(args)  # 自注意力机制模块\n",
    "\n",
    "        self.layer_id = layer_id  # 当前层的编号\n",
    "        self.attention_norm = RMSNorm(args.dim, eps=args.norm_eps)  # 注意力层前的 RMS 归一化\n",
    "        self.ffn_norm = RMSNorm(args.dim, eps=args.norm_eps)  # 前馈网络层前的 RMS 归一化\n",
    "\n",
    "        # 根据配置判断是否使用 Mixture of Experts (MoE) 作为前馈网络\n",
    "        if args.use_moe:\n",
    "            self.feed_forward = MOEFeedForward(args)  # 使用 Mixture of Experts (MoE) 前馈网络\n",
    "        else:\n",
    "            self.feed_forward = FeedForward(  # 使用常规的前馈网络\n",
    "                dim=args.dim,  # 模型的总维度\n",
    "                hidden_dim=args.hidden_dim,  # 前馈网络隐藏层的维度\n",
    "                multiple_of=args.multiple_of,  # 隐藏层维度应为该数的倍数\n",
    "                dropout=args.dropout,  # dropout 概率，用于正则化\n",
    "            )\n",
    "\n",
    "    def forward(self, x, pos_cis, kv_cache=False):\n",
    "        \"\"\"\n",
    "        TransformerBlock 的前向传播函数。\n",
    "\n",
    "        参数：\n",
    "        - x: 输入张量。\n",
    "        - pos_cis: 位置嵌入或旋转嵌入，用于加入位置信息。\n",
    "        - kv_cache: 是否使用键值缓存（用于加速推理时）。\n",
    "\n",
    "        返回：\n",
    "        - out: Transformer Block 的输出张量。\n",
    "        \"\"\"\n",
    "        # 输入经过注意力归一化后通过自注意力层，并叠加输入\n",
    "        h = x + self.attention(self.attention_norm(x), pos_cis, kv_cache)\n",
    "        # 注意力层输出经过前馈网络归一化后通过前馈网络，并叠加输出\n",
    "        out = h + self.feed_forward(self.ffn_norm(h))\n",
    "        return out  # 返回最终输出"
   ]
  },
  {
   "cell_type": "code",
   "execution_count": 79,
   "id": "eec5b0ba-1c51-4a44-82e6-7c7a95684857",
   "metadata": {},
   "outputs": [],
   "source": [
    "class Transformer(PreTrainedModel):\n",
    "    config_class = LMConfig  # 定义模型使用的配置类\n",
    "    last_loss: Optional[torch.Tensor]  # 用于记录最后计算的损失值\n",
    "\n",
    "    def __init__(self, params: LMConfig = None):\n",
    "        \"\"\"\n",
    "        Transformer 是一个基于 Transformer 架构的语言模型，继承自 PreTrainedModel。\n",
    "\n",
    "        参数：\n",
    "        - params: 配置对象 LMConfig，包含模型的超参数配置。\n",
    "        \"\"\"\n",
    "        super().__init__(params)\n",
    "        if not params:\n",
    "            params = LMConfig()  # 如果没有提供配置，则使用默认配置\n",
    "        self.params = params  # 保存模型参数配置\n",
    "        self.vocab_size = params.vocab_size  # 词汇表大小\n",
    "        self.n_layers = params.n_layers  # Transformer 的层数\n",
    "\n",
    "        self.tok_embeddings = nn.Embedding(params.vocab_size, params.dim)  # 词嵌入层\n",
    "        self.dropout = nn.Dropout(params.dropout)  # Dropout 层用于正则化\n",
    "        self.layers = torch.nn.ModuleList()  # TransformerBlock 的容器\n",
    "        for layer_id in range(self.n_layers):\n",
    "            self.layers.append(TransformerBlock(layer_id, params))  # 逐层添加 TransformerBlock\n",
    "        self.norm = RMSNorm(params.dim, eps=params.norm_eps)  # 最后的 RMS 正则化\n",
    "        self.output = nn.Linear(params.dim, params.vocab_size, bias=False)  # 输出层，线性映射到词汇表大小\n",
    "        self.tok_embeddings.weight = self.output.weight  # 共享词嵌入层和输出层的权重\n",
    "        pos_cis = precompute_pos_cis(self.params.dim // self.params.n_heads, self.params.max_seq_len)\n",
    "        self.register_buffer(\"pos_cis\", pos_cis, persistent=False)  # 注册位置嵌入（或旋转嵌入），不参与训练\n",
    "\n",
    "        self.apply(self._init_weights)  # 初始化模型权重\n",
    "\n",
    "        # 特殊初始化部分参数权重\n",
    "        for pn, p in self.named_parameters():\n",
    "            if pn.endswith('w3.weight') or pn.endswith('wo.weight'):\n",
    "                torch.nn.init.normal_(p, mean=0.0, std=0.02 / math.sqrt(2 * params.n_layers))\n",
    "\n",
    "        self.last_loss = None  # 初始化最后的损失为 None\n",
    "        self.OUT = CausalLMOutputWithPast()  # 初始化输出类\n",
    "        self._no_split_modules = [name for name, _ in self.named_modules()]  # 保存不拆分的模块名称\n",
    "\n",
    "    def _init_weights(self, module):\n",
    "        \"\"\"\n",
    "        初始化模块权重。\n",
    "        - 对线性层使用正态分布初始化权重，均值为 0，标准差为 0.02。\n",
    "        - 对词嵌入层也使用正态分布初始化权重，均值为 0，标准差为 0.02。\n",
    "        \"\"\"\n",
    "        if isinstance(module, nn.Linear):\n",
    "            torch.nn.init.normal_(module.weight, mean=0.0, std=0.02)\n",
    "            if module.bias is not None:\n",
    "                torch.nn.init.zeros_(module.bias)  # 如果存在偏置，将偏置初始化为 0\n",
    "        elif isinstance(module, nn.Embedding):\n",
    "            torch.nn.init.normal_(module.weight, mean=0.0, std=0.02)\n",
    "\n",
    "    def forward(self, tokens: Optional[torch.Tensor] = None, targets: Optional[torch.Tensor] = None,\n",
    "                kv_cache=False, **keyargs):\n",
    "        \"\"\"\n",
    "        Transformer 的前向传播函数。\n",
    "\n",
    "        参数：\n",
    "        - tokens: 输入的 token 张量，表示输入的词序列。\n",
    "        - targets: 目标张量，用于计算交叉熵损失。\n",
    "        - kv_cache: 是否使用键值缓存（用于加速推理）。\n",
    "        - keyargs: 其他可选参数，如 'input_ids' 和 'attention_mask'。\n",
    "\n",
    "        返回：\n",
    "        - 输出的 logits 和 loss（如果有目标）。\n",
    "        \"\"\"\n",
    "        current_idx = 0  # 当前索引初始化为 0\n",
    "        if 'input_ids' in keyargs:\n",
    "            tokens = keyargs['input_ids']  # 从关键字参数中提取 'input_ids'\n",
    "        if 'attention_mask' in keyargs:\n",
    "            targets = keyargs['attention_mask']  # 从关键字参数中提取 'attention_mask'\n",
    "        if 'current_idx' in keyargs:\n",
    "            current_idx = int(keyargs['current_idx'])  # 更新当前索引\n",
    "\n",
    "        _bsz, seqlen = tokens.shape  # 获取输入 tokens 的 batch 大小和序列长度\n",
    "        h = self.tok_embeddings(tokens)  # 将输入 tokens 通过词嵌入层进行嵌入\n",
    "        h = self.dropout(h)  # 通过 dropout 进行正则化\n",
    "        pos_cis = self.pos_cis[current_idx:current_idx + seqlen]  # 获取当前位置的旋转嵌入\n",
    "\n",
    "        # 逐层通过 TransformerBlock\n",
    "        for idx, layer in enumerate(self.layers):\n",
    "            h = layer(h, pos_cis, kv_cache)  # 调用每个 TransformerBlock 的前向传播\n",
    "\n",
    "        h = self.norm(h)  # 最后的 RMS 正则化处理\n",
    "\n",
    "        if targets is not None:\n",
    "            logits = self.output(h)  # 通过线性输出层生成 logits\n",
    "            # 计算交叉熵损失，忽略 index 为 0 的位置，reduction 为 'none'，即不自动求平均\n",
    "            self.last_loss = F.cross_entropy(logits.view(-1, logits.size(-1)), targets.view(-1),\n",
    "                                             ignore_index=0, reduction='none')\n",
    "        else:\n",
    "            logits = self.output(h[:, [-1], :])  # 如果没有目标，只返回最后一个时间步的 logits\n",
    "            self.last_loss = None  # 没有损失\n",
    "\n",
    "        self.OUT.__setitem__('logits', logits)  # 设置输出的 logits\n",
    "        self.OUT.__setitem__('last_loss', self.last_loss)  # 设置最后的 loss\n",
    "        return self.OUT  # 返回输出对象\n",
    "\n",
    "    @torch.inference_mode()\n",
    "    def generate(self, idx, eos, max_new_tokens, temperature=0.7, top_k=8, stream=True, rp=1., kv_cache=True):\n",
    "        \"\"\"\n",
    "        推理模式下的文本生成函数。\n",
    "\n",
    "        参数：\n",
    "        - idx: 输入的 tokens。\n",
    "        - eos: 结束标志符号，当生成到 eos 时停止生成。\n",
    "        - max_new_tokens: 最大生成的新 token 数量。\n",
    "        - temperature: 控制生成的随机性，温度越高，生成越多样化。\n",
    "        - top_k: 限制 top-k 采样，控制只选择概率最高的 k 个 token。\n",
    "        - stream: 是否进行流式输出。\n",
    "        - rp: 重复惩罚系数，控制重复 token 的惩罚。\n",
    "        - kv_cache: 是否使用键值缓存来加速推理。\n",
    "\n",
    "        返回：\n",
    "        - 生成的 tokens（可能是流式返回）。\n",
    "        \"\"\"\n",
    "        index = idx.shape[1]  # 获取输入 token 序列的长度\n",
    "        init_inference = True  # 初始化推理标志\n",
    "        while idx.shape[1] < max_new_tokens - 1:  # 当生成的 tokens 长度小于最大 tokens 数时继续生成\n",
    "            if init_inference or not kv_cache:\n",
    "                inference_res, init_inference = self(idx, kv_cache=kv_cache), False  # 第一次推理，或不使用缓存\n",
    "            else:\n",
    "                inference_res = self(idx[:, -1:], kv_cache=kv_cache, current_idx=idx.shape[1] - 1)  # 仅使用最后一个 token 推理\n",
    "\n",
    "            logits = inference_res.logits  # 获取推理结果的 logits\n",
    "            logits = logits[:, -1, :]  # 只选择最后一个 token 的 logits\n",
    "\n",
    "            # 对生成的 token 进行重复惩罚\n",
    "            for token in set(idx.tolist()[0]):\n",
    "                logits[:, token] /= rp  # 对每个重复的 token 施加惩罚\n",
    "\n",
    "            if temperature == 0.0:  # 如果温度为 0，使用贪心算法选择下一个 token\n",
    "                _, idx_next = torch.topk(logits, k=1, dim=-1)\n",
    "            else:\n",
    "                logits = logits / temperature  # 根据温度调整 logits\n",
    "                if top_k is not None:\n",
    "                    v, _ = torch.topk(logits, min(top_k, logits.size(-1)))  # 使用 top-k 采样\n",
    "                    logits[logits < v[:, [-1]]] = -float('Inf')  # 排除 top-k 之外的 logits\n",
    "\n",
    "                probs = F.softmax(logits, dim=-1)  # 计算概率分布\n",
    "                idx_next = torch.multinomial(probs, num_samples=1, generator=None)  # 根据概率进行采样\n",
    "\n",
    "            if idx_next == eos:  # 如果生成了 eos token，停止生成\n",
    "                break\n",
    "\n",
    "            idx = torch.cat((idx, idx_next), dim=1)  # 将生成的 token 拼接到输入序列中\n",
    "            if stream:  # 如果启用了流式输出\n",
    "                yield idx[:, index:]  # 输出当前生成的 tokens\n",
    "\n",
    "        if not stream:  # 如果未启用流式输出\n",
    "            yield idx[:, index:]  # 返回生成的完整序列"
   ]
  },
  {
   "cell_type": "markdown",
   "id": "be5184ba-2eb9-47c9-b20d-65be2abf146b",
   "metadata": {},
   "source": [
    "## 9. 配置文件的搭建"
   ]
  },
  {
   "cell_type": "code",
   "execution_count": 1,
   "id": "e807b9f8-0571-41d1-bef3-242debd65a82",
   "metadata": {},
   "outputs": [],
   "source": [
    "from transformers import PretrainedConfig\n",
    "from typing import List\n",
    "\n",
    "\n",
    "class LMConfig(PretrainedConfig):\n",
    "    model_type = \"MateConv_LlaMA\"\n",
    "\n",
    "    def __init__(\n",
    "            self,\n",
    "            dim: int = 512,\n",
    "            n_layers: int = 8,\n",
    "            n_heads: int = 16,\n",
    "            n_kv_heads: int = 8,\n",
    "            vocab_size: int = 6400,\n",
    "            hidden_dim: int = None,\n",
    "            multiple_of: int = 64,\n",
    "            norm_eps: float = 1e-5,\n",
    "            max_seq_len: int = 512,\n",
    "            dropout: float = 0.0,\n",
    "            flash_attn: bool = True,\n",
    "            use_moe: bool = False,\n",
    "            num_experts_per_tok=2,\n",
    "            n_routed_experts=4,\n",
    "            n_shared_experts: bool = True,\n",
    "            scoring_func='softmax',\n",
    "            aux_loss_alpha=0.01,\n",
    "            seq_aux=True,\n",
    "            norm_topk_prob=True,\n",
    "            **kwargs,\n",
    "    ):\n",
    "        self.dim = dim\n",
    "        self.n_layers = n_layers\n",
    "        self.n_heads = n_heads\n",
    "        self.n_kv_heads = n_kv_heads\n",
    "        self.vocab_size = vocab_size\n",
    "        self.hidden_dim = hidden_dim\n",
    "        self.multiple_of = multiple_of\n",
    "        self.norm_eps = norm_eps\n",
    "        self.max_seq_len = max_seq_len\n",
    "        self.dropout = dropout\n",
    "        self.flash_attn = flash_attn\n",
    "        self.use_moe = use_moe\n",
    "        self.num_experts_per_tok = num_experts_per_tok  # 每个token选择的专家数量\n",
    "        self.n_routed_experts = n_routed_experts  # 总的专家数量\n",
    "        self.n_shared_experts = n_shared_experts  # 共享专家\n",
    "        self.scoring_func = scoring_func  # 评分函数，默认为softmax\n",
    "        self.aux_loss_alpha = aux_loss_alpha  # 辅助损失的alpha参数\n",
    "        self.seq_aux = seq_aux  # 是否在序列级别上计算辅助损失\n",
    "        self.norm_topk_prob = norm_topk_prob  # 是否标准化top-k概率\n",
    "        super().__init__(**kwargs)"
   ]
  },
  {
   "cell_type": "code",
   "execution_count": null,
   "id": "b7987db8-8360-4a4b-80f9-007927b936da",
   "metadata": {},
   "outputs": [],
   "source": [
    "# from .LMConfig import LMConfig"
   ]
  }
 ],
 "metadata": {
  "kernelspec": {
   "display_name": "py_39",
   "language": "python",
   "name": "python3"
  },
  "language_info": {
   "codemirror_mode": {
    "name": "ipython",
    "version": 3
   },
   "file_extension": ".py",
   "mimetype": "text/x-python",
   "name": "python",
   "nbconvert_exporter": "python",
   "pygments_lexer": "ipython3",
   "version": "3.9.0"
  }
 },
 "nbformat": 4,
 "nbformat_minor": 5
}
